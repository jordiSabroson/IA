{
 "cells": [
  {
   "cell_type": "markdown",
   "metadata": {},
   "source": [
    "# Predicció de càncer de pell utilitzant Machine Learning"
   ]
  },
  {
   "cell_type": "markdown",
   "metadata": {},
   "source": [
    "Llibreries que utilitzarem"
   ]
  },
  {
   "cell_type": "code",
   "execution_count": 19,
   "metadata": {},
   "outputs": [],
   "source": [
    "import torch\n",
    "import torch.nn as nn\n",
    "from torchvision import transforms, datasets\n",
    "from torch.utils.data import DataLoader\n",
    "import torch.optim as optim\n",
    "from torchvision.models import resnet18\n"
   ]
  },
  {
   "cell_type": "markdown",
   "metadata": {},
   "source": [
    "Importar les dades que utilitzarem. Al ser imatges fem servir el mètode ImageFolder de Torchvision"
   ]
  },
  {
   "cell_type": "markdown",
   "metadata": {},
   "source": [
    "- Passem les dades d'imatges a tensors"
   ]
  },
  {
   "cell_type": "code",
   "execution_count": 20,
   "metadata": {},
   "outputs": [],
   "source": [
    "transform = transforms.Compose([\n",
    "    transforms.Resize((224,224)),\n",
    "    transforms.ToTensor()\n",
    "])"
   ]
  },
  {
   "cell_type": "markdown",
   "metadata": {},
   "source": [
    "- Definir el dataset i crear el dataloader"
   ]
  },
  {
   "cell_type": "code",
   "execution_count": 21,
   "metadata": {},
   "outputs": [],
   "source": [
    "directory = 'data'\n",
    "bs = 64\n",
    "\n",
    "train_dataset = datasets.ImageFolder(f\"{directory}/train\",transform=transform)\n",
    "train_dataloader = DataLoader(train_dataset, batch_size=bs, shuffle=True)\n",
    "\n",
    "test_dataset = datasets.ImageFolder(f\"{directory}/test\", transform=transform)\n",
    "test_dataloader = DataLoader(test_dataset, batch_size=bs, shuffle=True)"
   ]
  },
  {
   "cell_type": "markdown",
   "metadata": {},
   "source": [
    "- Farem servir la GPU"
   ]
  },
  {
   "cell_type": "code",
   "execution_count": 22,
   "metadata": {},
   "outputs": [
    {
     "name": "stdout",
     "output_type": "stream",
     "text": [
      "Device: cuda\n"
     ]
    }
   ],
   "source": [
    "device = (\n",
    "    \"cuda\"\n",
    "    if torch.cuda.is_available()\n",
    "    else \"mps\"\n",
    "    if torch.backends.mps.is_available()\n",
    "    else \"cpu\"\n",
    ")\n",
    "print(f'Device: {device}')"
   ]
  },
  {
   "cell_type": "markdown",
   "metadata": {},
   "source": [
    "- Creació del model neuronal"
   ]
  },
  {
   "cell_type": "code",
   "execution_count": 23,
   "metadata": {},
   "outputs": [],
   "source": [
    "class MelanomaDetector(nn.Module):\n",
    "    def __init__(self):\n",
    "        super().__init__()\n",
    "        self.features = nn.Sequential(\n",
    "            nn.Conv2d(in_channels=3,out_channels=32,kernel_size=5,stride=2),\n",
    "            nn.MaxPool2d(kernel_size=2,stride=2,padding=0),\n",
    "            nn.Conv2d(in_channels=32,out_channels=64,kernel_size=3,stride=2),\n",
    "            nn.MaxPool2d(kernel_size=2,stride=2,padding=0),\n",
    "            nn.Flatten(),\n",
    "            nn.Linear(10816,100),\n",
    "            nn.ReLU(),\n",
    "            nn.Linear(100,2)\n",
    "        )\n",
    "    \n",
    "    def forward(self, X):\n",
    "        X = self.features(X)\n",
    "        return X"
   ]
  },
  {
   "cell_type": "markdown",
   "metadata": {},
   "source": [
    "- Instància del model"
   ]
  },
  {
   "cell_type": "code",
   "execution_count": 24,
   "metadata": {},
   "outputs": [],
   "source": [
    "model = MelanomaDetector().to(device)\n",
    "criterion = nn.CrossEntropyLoss()\n",
    "optimizer = optim.Adam(model.parameters(),lr = 0.001)"
   ]
  },
  {
   "cell_type": "markdown",
   "metadata": {},
   "source": [
    "- Funció d'entrenament"
   ]
  },
  {
   "cell_type": "code",
   "execution_count": 25,
   "metadata": {},
   "outputs": [],
   "source": [
    "def train_model(model,train_dataloader,criterion,optimizer):\n",
    "    model.train()\n",
    "    running_loss = 0.0\n",
    "    for epoch, (inputs, labels) in enumerate(train_dataloader):\n",
    "        inputs,labels = inputs.to(device),labels.to(device)\n",
    "\n",
    "        #Paso forward\n",
    "        outputs = model(inputs)\n",
    "        loss = criterion(outputs,labels)\n",
    "\n",
    "        #Paso backward\n",
    "        optimizer.zero_grad()\n",
    "        loss.backward()\n",
    "        optimizer.step()\n",
    "\n",
    "        if epoch % 10 == 0:\n",
    "            running_loss += loss.item()\n",
    "            print(f'Loss: {running_loss/len(train_dataloader):.4f}')"
   ]
  },
  {
   "cell_type": "markdown",
   "metadata": {},
   "source": [
    "- Funció d'evaluació"
   ]
  },
  {
   "cell_type": "code",
   "execution_count": 26,
   "metadata": {},
   "outputs": [],
   "source": [
    "def evaluate_model(model,test_dataloader):\n",
    "    model.eval()\n",
    "    correct = 0\n",
    "    correct_sum = 0\n",
    "    total = 0\n",
    "    total_sum = 0\n",
    "    for inputs,labels in test_dataloader:\n",
    "            inputs,labels = inputs.to(device),labels.to(device)\n",
    "            outputs = model(inputs)\n",
    "            _,predicted = torch.max(outputs.data,1)\n",
    "            total =+ labels.size(0)\n",
    "            total_sum =+ total\n",
    "            correct =+ (predicted == labels).sum().item()\n",
    "            correct_sum =+ correct\n",
    "            print(f'Accuracy of the network on the {total} test images: {100 * correct / total:.2f}%')\n",
    "\n",
    "    print(f'Total accuracy of the network on the {total_sum} test images: {100 * correct_sum / total_sum:.2f}%')"
   ]
  },
  {
   "cell_type": "markdown",
   "metadata": {},
   "source": [
    "- Entrenar i evaluar el model"
   ]
  },
  {
   "cell_type": "code",
   "execution_count": 27,
   "metadata": {},
   "outputs": [
    {
     "name": "stdout",
     "output_type": "stream",
     "text": [
      "Epoch 1\n",
      "-------------------------------\n",
      "Loss: 0.0046\n",
      "Loss: 0.0065\n",
      "\n",
      "\n",
      "Epoch 2\n",
      "-------------------------------\n",
      "Loss: 0.0017\n",
      "Loss: 0.0035\n",
      "\n",
      "\n",
      "Epoch 3\n",
      "-------------------------------\n",
      "Loss: 0.0022\n",
      "Loss: 0.0040\n",
      "\n",
      "\n",
      "Epoch 4\n",
      "-------------------------------\n",
      "Loss: 0.0014\n",
      "Loss: 0.0041\n",
      "\n",
      "\n",
      "Epoch 5\n",
      "-------------------------------\n",
      "Loss: 0.0015\n",
      "Loss: 0.0031\n",
      "\n",
      "\n",
      "Done!\n",
      "Accuracy of the network on the 64 test images: 92.19%\n",
      "Accuracy of the network on the 64 test images: 95.31%\n",
      "Accuracy of the network on the 64 test images: 89.06%\n",
      "Accuracy of the network on the 64 test images: 89.06%\n",
      "Accuracy of the network on the 64 test images: 84.38%\n",
      "Accuracy of the network on the 64 test images: 92.19%\n",
      "Accuracy of the network on the 64 test images: 87.50%\n",
      "Accuracy of the network on the 64 test images: 89.06%\n",
      "Accuracy of the network on the 64 test images: 93.75%\n",
      "Accuracy of the network on the 64 test images: 89.06%\n",
      "Accuracy of the network on the 64 test images: 78.12%\n",
      "Accuracy of the network on the 64 test images: 89.06%\n",
      "Accuracy of the network on the 64 test images: 87.50%\n",
      "Accuracy of the network on the 64 test images: 82.81%\n",
      "Accuracy of the network on the 64 test images: 90.62%\n",
      "Accuracy of the network on the 40 test images: 85.00%\n",
      "Total accuracy of the network on the 40 test images: 85.00%\n"
     ]
    }
   ],
   "source": [
    "epochs = 5\n",
    "for e in range(epochs):\n",
    "    print(f\"Epoch {e+1}\\n-------------------------------\")\n",
    "    train_model(model,train_dataloader,criterion,optimizer)\n",
    "    print(\"\\n\")\n",
    "print(\"Done!\")\n",
    "evaluate_model(model,test_dataloader)\n",
    "\n",
    "\n"
   ]
  }
 ],
 "metadata": {
  "kernelspec": {
   "display_name": "ex-basics",
   "language": "python",
   "name": "python3"
  },
  "language_info": {
   "codemirror_mode": {
    "name": "ipython",
    "version": 3
   },
   "file_extension": ".py",
   "mimetype": "text/x-python",
   "name": "python",
   "nbconvert_exporter": "python",
   "pygments_lexer": "ipython3",
   "version": "3.12.7"
  }
 },
 "nbformat": 4,
 "nbformat_minor": 2
}
