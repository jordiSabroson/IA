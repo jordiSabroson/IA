{
 "cells": [
  {
   "cell_type": "markdown",
   "id": "ca286c4a-27ae-4488-ac69-a3c5beb26ccb",
   "metadata": {},
   "source": [
    "# importing json file\n"
   ]
  },
  {
   "cell_type": "markdown",
   "id": "35d19847-f6d4-4087-aa26-46e95ad9d900",
   "metadata": {},
   "source": [
    "import json per la llibreria que treballa amb json"
   ]
  },
  {
   "cell_type": "code",
   "execution_count": 3,
   "id": "70eb8f9f-1622-4b2e-b7f5-6f2973b3c359",
   "metadata": {},
   "outputs": [],
   "source": [
    "import json\n",
    "import numpy as np #aqui hi ha les estructures de dades que faig servir\n",
    "import matplotlib.pyplot as plt #per dibuixar\n",
    "import scipy.io as sio #el input output d'audio (wavfile.read)\n",
    "from IPython.display import Audio #el reproductor d'audio\n",
    "from numpy.fft import fft, ifft #podria fer numpy.fft en comptes de fer aquest import\n",
    "from wav2vec import cutvowel, wav2vec #el nostre modul"
   ]
  },
  {
   "cell_type": "markdown",
   "id": "91175183-9b38-4aa4-abd6-c9e50e40db6f",
   "metadata": {},
   "source": [
    "importo el meu fitxer json"
   ]
  },
  {
   "cell_type": "code",
   "execution_count": 4,
   "id": "339f55a3-ff7a-4801-a7c4-5529c6914b02",
   "metadata": {},
   "outputs": [
    {
     "ename": "FileNotFoundError",
     "evalue": "[Errno 2] No such file or directory: 'vowels/alex.json'",
     "output_type": "error",
     "traceback": [
      "\u001b[0;31m---------------------------------------------------------------------------\u001b[0m",
      "\u001b[0;31mFileNotFoundError\u001b[0m                         Traceback (most recent call last)",
      "Cell \u001b[0;32mIn[4], line 1\u001b[0m\n\u001b[0;32m----> 1\u001b[0m \u001b[38;5;28;01mwith\u001b[39;00m \u001b[38;5;28;43mopen\u001b[39;49m\u001b[43m(\u001b[49m\u001b[38;5;124;43m\"\u001b[39;49m\u001b[38;5;124;43mvowels/alex.json\u001b[39;49m\u001b[38;5;124;43m\"\u001b[39;49m\u001b[43m)\u001b[49m \u001b[38;5;28;01mas\u001b[39;00m f:\n\u001b[1;32m      2\u001b[0m     data \u001b[38;5;241m=\u001b[39m json\u001b[38;5;241m.\u001b[39mload(f)\n\u001b[1;32m      3\u001b[0m \u001b[38;5;28mprint\u001b[39m(data[\u001b[38;5;241m30\u001b[39m])\n",
      "File \u001b[0;32m~/Escritorio/UA/ex-basics/lib/python3.12/site-packages/IPython/core/interactiveshell.py:324\u001b[0m, in \u001b[0;36m_modified_open\u001b[0;34m(file, *args, **kwargs)\u001b[0m\n\u001b[1;32m    317\u001b[0m \u001b[38;5;28;01mif\u001b[39;00m file \u001b[38;5;129;01min\u001b[39;00m {\u001b[38;5;241m0\u001b[39m, \u001b[38;5;241m1\u001b[39m, \u001b[38;5;241m2\u001b[39m}:\n\u001b[1;32m    318\u001b[0m     \u001b[38;5;28;01mraise\u001b[39;00m \u001b[38;5;167;01mValueError\u001b[39;00m(\n\u001b[1;32m    319\u001b[0m         \u001b[38;5;124mf\u001b[39m\u001b[38;5;124m\"\u001b[39m\u001b[38;5;124mIPython won\u001b[39m\u001b[38;5;124m'\u001b[39m\u001b[38;5;124mt let you open fd=\u001b[39m\u001b[38;5;132;01m{\u001b[39;00mfile\u001b[38;5;132;01m}\u001b[39;00m\u001b[38;5;124m by default \u001b[39m\u001b[38;5;124m\"\u001b[39m\n\u001b[1;32m    320\u001b[0m         \u001b[38;5;124m\"\u001b[39m\u001b[38;5;124mas it is likely to crash IPython. If you know what you are doing, \u001b[39m\u001b[38;5;124m\"\u001b[39m\n\u001b[1;32m    321\u001b[0m         \u001b[38;5;124m\"\u001b[39m\u001b[38;5;124myou can use builtins\u001b[39m\u001b[38;5;124m'\u001b[39m\u001b[38;5;124m open.\u001b[39m\u001b[38;5;124m\"\u001b[39m\n\u001b[1;32m    322\u001b[0m     )\n\u001b[0;32m--> 324\u001b[0m \u001b[38;5;28;01mreturn\u001b[39;00m \u001b[43mio_open\u001b[49m\u001b[43m(\u001b[49m\u001b[43mfile\u001b[49m\u001b[43m,\u001b[49m\u001b[43m \u001b[49m\u001b[38;5;241;43m*\u001b[39;49m\u001b[43margs\u001b[49m\u001b[43m,\u001b[49m\u001b[43m \u001b[49m\u001b[38;5;241;43m*\u001b[39;49m\u001b[38;5;241;43m*\u001b[39;49m\u001b[43mkwargs\u001b[49m\u001b[43m)\u001b[49m\n",
      "\u001b[0;31mFileNotFoundError\u001b[0m: [Errno 2] No such file or directory: 'vowels/alex.json'"
     ]
    }
   ],
   "source": [
    "with open(\"vowels/alex.json\") as f:\n",
    "    data = json.load(f)\n",
    "print(data[30])"
   ]
  },
  {
   "cell_type": "code",
   "execution_count": null,
   "id": "9167b1eb-2994-4c54-a677-7fc4e7d6b7ce",
   "metadata": {},
   "outputs": [],
   "source": [
    "start = data[30][\"start\"]\n",
    "end = data[30][\"end\"]\n",
    "print(float(start))"
   ]
  },
  {
   "cell_type": "markdown",
   "id": "92b58fa4-bcb5-47cc-b8ff-d7dadd646de9",
   "metadata": {},
   "source": [
    "les llibreries que necesito per utilitzar i processar audio"
   ]
  },
  {
   "cell_type": "markdown",
   "id": "0e40e23e-640f-4f30-840a-0c7867396c7b",
   "metadata": {},
   "source": [
    "carrego el fitxer d'audio"
   ]
  },
  {
   "cell_type": "code",
   "execution_count": null,
   "id": "08fece2b-5581-443a-9e15-ecba56b39170",
   "metadata": {},
   "outputs": [],
   "source": [
    "select = 21 #5 i 103\n",
    "start = float(data[select][\"start\"])\n",
    "print(start)\n",
    "end=float(data[select][\"end\"])\n",
    "print(end)\n",
    "\n",
    "Fs, audio = sio.wavfile.read(\"vowels/alex.wav\")\n",
    "#Fs, audio = cutvowel(\"vowels/alex.wav\"), float(data[select][\"start\"]), float(data[select][\"end\"]))\n",
    "cut = audio[int(start*Fs):int(end*Fs),0]\n",
    "\n",
    "#print(Fs)\n",
    "#print(len(audio)) #per mirar si és estero o mono\n",
    "#print(type(audio))\n",
    "#print(type(audio[0]))\n",
    "\n",
    "#start=4.4 #realment ho agafariem del fitxer json\n",
    "#end=4.6\n",
    "\n",
    "#framesentrada = int(float(start)*Fs) #calculem la mostra d'entrada\n",
    "#framesalida = int(float(end)*Fs)\n",
    "#cut=audio[framesentrada:framesalida] #retallem\n",
    "\n",
    "#cut = audio\n",
    "#data[select][\"vocal\"]\n",
    "print(Fs)\n",
    "print(cut)"
   ]
  },
  {
   "cell_type": "code",
   "execution_count": null,
   "id": "a5970c7a-c332-4048-9430-ec6fb17f37a2",
   "metadata": {},
   "outputs": [],
   "source": [
    "Audio(cut, rate=Fs)"
   ]
  },
  {
   "cell_type": "markdown",
   "id": "f7091771-bff4-4257-9bc3-07e6196a4db8",
   "metadata": {},
   "source": [
    "dibuixem l'audio retallat"
   ]
  },
  {
   "cell_type": "code",
   "execution_count": null,
   "id": "e93690d3-c4a3-41de-8546-a575cd8bf8d0",
   "metadata": {},
   "outputs": [],
   "source": [
    "plt.figure()\n",
    "plt.plot(cut)\n",
    "plt.title(\"\")\n",
    "plt.xlabel(\"time\")\n",
    "plt.ylabel(\"Amplitud\")\n",
    "plt.show()"
   ]
  },
  {
   "cell_type": "markdown",
   "id": "28b5bd42-6646-4245-a1ca-29e889e048b4",
   "metadata": {},
   "source": [
    "Dificil entendre algo. mirem fourier"
   ]
  },
  {
   "cell_type": "code",
   "execution_count": null,
   "id": "6740ddd7-3812-48f6-8b19-cab56df38ca3",
   "metadata": {},
   "outputs": [],
   "source": [
    "fourier = fft(cut)\n",
    "plt.figure()\n",
    "plt.plot(fourier)\n",
    "plt.title(\"FFT\")\n",
    "plt.xlabel(\"frequency\")\n",
    "plt.ylabel(\"Amplitud\")\n",
    "plt.show()"
   ]
  },
  {
   "cell_type": "markdown",
   "id": "812ef91e-9739-4147-b228-d925b8e2ad5c",
   "metadata": {},
   "source": [
    "només m'importa el que pasa a prop de zero"
   ]
  },
  {
   "cell_type": "code",
   "execution_count": null,
   "id": "12b31e69-579b-48cb-8994-124b6e244904",
   "metadata": {},
   "outputs": [],
   "source": [
    "Fsmall = fourier[0:300]\n",
    "plt.figure()\n",
    "plt.plot(Fsmall)\n",
    "plt.title(\"FFT\")\n",
    "plt.xlabel(\"frequency\")\n",
    "plt.ylabel(\"Amplitud\")\n",
    "plt.show()"
   ]
  },
  {
   "cell_type": "markdown",
   "id": "fb00e188-a7fe-45f2-9959-e25905e4ca84",
   "metadata": {},
   "source": [
    "No m'importa la fase, només el módul.\n"
   ]
  },
  {
   "cell_type": "code",
   "execution_count": null,
   "id": "ba8d0a2f-92dd-4cd5-a195-c9e6b862208e",
   "metadata": {},
   "outputs": [],
   "source": [
    "toprocess = np.sqrt((np.real(Fsmall)**2+np.imag(Fsmall)**2))\n",
    "plt.figure()\n",
    "plt.plot(toprocess)\n",
    "plt.show()"
   ]
  },
  {
   "cell_type": "markdown",
   "id": "b8567241-cbad-4052-bbfc-54d5644281f6",
   "metadata": {},
   "source": [
    "Aplico un filtre per quedar eliminar soroll"
   ]
  },
  {
   "cell_type": "code",
   "execution_count": null,
   "id": "2b1e0f52-186b-4ce6-9227-52e81226d13e",
   "metadata": {
    "tags": []
   },
   "outputs": [],
   "source": [
    "filter = 5\n",
    "out = np.zeros(len(toprocess)-filter, dtype=np.float64)\n",
    "for i in range(len(toprocess)-filter):\n",
    "    for j in range(filter):\n",
    "        out[i] += toprocess[i+j]\n",
    "\n",
    "        \n",
    "out[0:15] = 0\n",
    "        \n",
    "plt.figure()\n",
    "plt.plot(out)\n",
    "plt.show()\n",
    "\n",
    "np.argmax(out)"
   ]
  },
  {
   "cell_type": "code",
   "execution_count": null,
   "id": "2645c901-146a-46a1-ae10-443157b762f5",
   "metadata": {
    "tags": []
   },
   "outputs": [],
   "source": [
    "filter2 = 25\n",
    "\n",
    "maxim1 = np.argmax(out)\n",
    "print(maxim1)\n",
    "\n",
    "filmin = filter2\n",
    "if maxim1 < filter2:\n",
    "    filmin = maxim1\n",
    "\n",
    "out[maxim1-filmin:maxim1+filter2] = 0\n",
    "plt.figure()\n",
    "plt.plot(out)\n",
    "plt.show()\n",
    "\n",
    "maxim2 = np.argmax(out)\n",
    "print(maxim2)\n",
    "\n",
    "out[maxim2-filter2:maxim2+filter2] = 0\n",
    "plt.figure()\n",
    "plt.plot(out)\n",
    "plt.show()\n",
    "\n",
    "\n",
    "maxim3 = np.argmax(out)\n",
    "print(maxim3)\n",
    "\n",
    "out[maxim3-filter2:maxim3+filter2] = 0\n",
    "plt.figure()\n",
    "plt.plot(out)\n",
    "plt.show()"
   ]
  },
  {
   "cell_type": "code",
   "execution_count": null,
   "id": "5beeb278-b63f-44ee-8818-049b0b1f6dbd",
   "metadata": {},
   "outputs": [],
   "source": [
    "print(fourier.size)\n",
    "print(Fs)\n",
    "print((maxim1)*Fs/fourier.size, \"Hz\")\n",
    "print((maxim2)*Fs/fourier.size, \"Hz\")\n",
    "print((maxim3)*Fs/fourier.size, \"Hz\")"
   ]
  },
  {
   "cell_type": "code",
   "execution_count": null,
   "id": "ce290cf7-f4f5-4ab5-a022-c4d65bd981d2",
   "metadata": {},
   "outputs": [],
   "source": []
  }
 ],
 "metadata": {
  "kernelspec": {
   "display_name": "ex-basics",
   "language": "python",
   "name": "python3"
  },
  "language_info": {
   "codemirror_mode": {
    "name": "ipython",
    "version": 3
   },
   "file_extension": ".py",
   "mimetype": "text/x-python",
   "name": "python",
   "nbconvert_exporter": "python",
   "pygments_lexer": "ipython3",
   "version": "3.12.7"
  }
 },
 "nbformat": 4,
 "nbformat_minor": 5
}
