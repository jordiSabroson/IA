{
 "cells": [
  {
   "cell_type": "markdown",
   "id": "4aaaac5e",
   "metadata": {},
   "source": [
    "Preprocessar dades per al model"
   ]
  },
  {
   "cell_type": "code",
   "execution_count": null,
   "id": "91416e8e",
   "metadata": {},
   "outputs": [],
   "source": [
    "import torch\n",
    "from torch.utils.data import Dataset, DataLoader\n",
    "from sklearn.preprocessing import LabelEncoder\n",
    "import numpy as np\n",
    "import json\n",
    "\n",
    "# Cargar datos preprocesados\n",
    "with open('data/dataset_tonality_chords.json') as f:\n",
    "    data = json.load(f)\n",
    "\n",
    "# Preparar encoder para acordes\n",
    "all_chords = list(set(c for song in data['songs'] for c in song['chords']))\n",
    "chord_encoder = LabelEncoder()\n",
    "chord_encoder.fit(all_chords)\n",
    "\n",
    "# Preparar encoder para tonalidades\n",
    "tonalities = list(set(song['tonality'] for song in data['songs']))\n",
    "tonality_encoder = LabelEncoder()\n",
    "tonality_encoder.fit(tonalities)\n",
    "\n",
    "# Parámetros\n",
    "SEQUENCE_LENGTH = 8  # Longitud de secuencias de entrada\n",
    "BATCH_SIZE = 32"
   ]
  },
  {
   "cell_type": "markdown",
   "id": "9e53a9a3",
   "metadata": {},
   "source": [
    "Clase Dataset"
   ]
  },
  {
   "cell_type": "code",
   "execution_count": null,
   "id": "b8df8581",
   "metadata": {},
   "outputs": [],
   "source": [
    "class ChordDataset(Dataset):\n",
    "    def __init__(self, songs, chord_encoder, tonality_encoder, seq_length):\n",
    "        self.songs = songs\n",
    "        self.chord_encoder = chord_encoder\n",
    "        self.tonality_encoder = tonality_encoder\n",
    "        self.seq_length = seq_length\n",
    "        self.sequences = self._create_sequences()\n",
    "        \n",
    "    def _create_sequences(self):\n",
    "        sequences = []\n",
    "        for song in self.songs:\n",
    "            chords = song['chords']\n",
    "            tonality = song['tonality']\n",
    "            \n",
    "            # Codificar acordes y tonalidad\n",
    "            encoded_chords = self.chord_encoder.transform(chords)\n",
    "            encoded_tonality = self.tonality_encoder.transform([tonality])[0]\n",
    "            \n",
    "            # Crear secuencias deslizantes\n",
    "            for i in range(len(encoded_chords) - self.seq_length):\n",
    "                seq = encoded_chords[i:i+self.seq_length]\n",
    "                target = encoded_chords[i+self.seq_length]\n",
    "                sequences.append({\n",
    "                    'input_seq': seq,\n",
    "                    'tonality': encoded_tonality,\n",
    "                    'target': target\n",
    "                })\n",
    "        return sequences\n",
    "    \n",
    "    def __len__(self):\n",
    "        return len(self.sequences)\n",
    "    \n",
    "    def __getitem__(self, idx):\n",
    "        seq = self.sequences[idx]\n",
    "        return {\n",
    "            'input_seq': torch.tensor(seq['input_seq'], dtype=torch.long),\n",
    "            'tonality': torch.tensor(seq['tonality'], dtype=torch.long),\n",
    "            'target': torch.tensor(seq['target'], dtype=torch.long)\n",
    "        }\n",
    "\n",
    "# Crear datasets\n",
    "dataset = ChordDataset(data['songs'], chord_encoder, tonality_encoder, SEQUENCE_LENGTH)\n",
    "train_loader = DataLoader(dataset, batch_size=BATCH_SIZE, shuffle=True)"
   ]
  },
  {
   "cell_type": "markdown",
   "id": "25a6043e",
   "metadata": {},
   "source": [
    "Model"
   ]
  },
  {
   "cell_type": "code",
   "execution_count": null,
   "id": "b248bf16",
   "metadata": {},
   "outputs": [],
   "source": [
    "class ChordLSTM(torch.nn.Module):\n",
    "    def __init__(self, vocab_size, tonality_size, embedding_dim=64, hidden_dim=128):\n",
    "        super().__init__()\n",
    "        self.chord_embedding = torch.nn.Embedding(vocab_size, embedding_dim)\n",
    "        self.tonality_embedding = torch.nn.Embedding(tonality_size, embedding_dim)\n",
    "        self.lstm = torch.nn.LSTM(embedding_dim * 2, hidden_dim, batch_first=True)\n",
    "        self.fc = torch.nn.Linear(hidden_dim, vocab_size)\n",
    "        \n",
    "    def forward(self, x, tonality):\n",
    "        # Embeddings\n",
    "        chord_emb = self.chord_embedding(x)\n",
    "        tonality_emb = self.tonality_embedding(tonality).unsqueeze(1).expand(-1, x.size(1), -1)\n",
    "        \n",
    "        # Concatenar\n",
    "        combined = torch.cat([chord_emb, tonality_emb], dim=-1)\n",
    "        \n",
    "        # LSTM\n",
    "        lstm_out, _ = self.lstm(combined)\n",
    "        \n",
    "        # Solo la última posición temporal\n",
    "        last_out = lstm_out[:, -1, :]\n",
    "        \n",
    "        return self.fc(last_out)\n",
    "\n",
    "# Inicializar modelo\n",
    "model = ChordLSTM(\n",
    "    vocab_size=len(chord_encoder.classes_),\n",
    "    tonality_size=len(tonality_encoder.classes_)\n",
    ")"
   ]
  },
  {
   "cell_type": "markdown",
   "id": "6440e35c",
   "metadata": {},
   "source": [
    "Train loop"
   ]
  },
  {
   "cell_type": "code",
   "execution_count": 7,
   "id": "c661f6a5",
   "metadata": {},
   "outputs": [
    {
     "ename": "KeyboardInterrupt",
     "evalue": "",
     "output_type": "error",
     "traceback": [
      "\u001b[0;31m---------------------------------------------------------------------------\u001b[0m",
      "\u001b[0;31mKeyboardInterrupt\u001b[0m                         Traceback (most recent call last)",
      "Cell \u001b[0;32mIn[7], line 27\u001b[0m\n\u001b[1;32m     24\u001b[0m         \u001b[38;5;28mprint\u001b[39m(\u001b[38;5;124mf\u001b[39m\u001b[38;5;124m'\u001b[39m\u001b[38;5;124mEpoch \u001b[39m\u001b[38;5;132;01m{\u001b[39;00mepoch\u001b[38;5;241m+\u001b[39m\u001b[38;5;241m1\u001b[39m\u001b[38;5;132;01m}\u001b[39;00m\u001b[38;5;124m, Loss: \u001b[39m\u001b[38;5;132;01m{\u001b[39;00mtotal_loss\u001b[38;5;241m/\u001b[39m\u001b[38;5;28mlen\u001b[39m(dataloader)\u001b[38;5;132;01m:\u001b[39;00m\u001b[38;5;124m.4f\u001b[39m\u001b[38;5;132;01m}\u001b[39;00m\u001b[38;5;124m'\u001b[39m)\n\u001b[1;32m     26\u001b[0m \u001b[38;5;66;03m# Ejecutar entrenamiento\u001b[39;00m\n\u001b[0;32m---> 27\u001b[0m \u001b[43mtrain\u001b[49m\u001b[43m(\u001b[49m\u001b[43mmodel\u001b[49m\u001b[43m,\u001b[49m\u001b[43m \u001b[49m\u001b[43mtrain_loader\u001b[49m\u001b[43m,\u001b[49m\u001b[43m \u001b[49m\u001b[43mepochs\u001b[49m\u001b[38;5;241;43m=\u001b[39;49m\u001b[38;5;241;43m10\u001b[39;49m\u001b[43m)\u001b[49m\n",
      "Cell \u001b[0;32mIn[7], line 19\u001b[0m, in \u001b[0;36mtrain\u001b[0;34m(model, dataloader, epochs)\u001b[0m\n\u001b[1;32m     17\u001b[0m outputs \u001b[38;5;241m=\u001b[39m model(inputs, tonalities)\n\u001b[1;32m     18\u001b[0m loss \u001b[38;5;241m=\u001b[39m criterion(outputs, targets)\n\u001b[0;32m---> 19\u001b[0m \u001b[43mloss\u001b[49m\u001b[38;5;241;43m.\u001b[39;49m\u001b[43mbackward\u001b[49m\u001b[43m(\u001b[49m\u001b[43m)\u001b[49m\n\u001b[1;32m     20\u001b[0m optimizer\u001b[38;5;241m.\u001b[39mstep()\n\u001b[1;32m     22\u001b[0m total_loss \u001b[38;5;241m+\u001b[39m\u001b[38;5;241m=\u001b[39m loss\u001b[38;5;241m.\u001b[39mitem()\n",
      "File \u001b[0;32m~/Escritorio/UA/ex-basics/lib/python3.12/site-packages/torch/_tensor.py:626\u001b[0m, in \u001b[0;36mTensor.backward\u001b[0;34m(self, gradient, retain_graph, create_graph, inputs)\u001b[0m\n\u001b[1;32m    616\u001b[0m \u001b[38;5;28;01mif\u001b[39;00m has_torch_function_unary(\u001b[38;5;28mself\u001b[39m):\n\u001b[1;32m    617\u001b[0m     \u001b[38;5;28;01mreturn\u001b[39;00m handle_torch_function(\n\u001b[1;32m    618\u001b[0m         Tensor\u001b[38;5;241m.\u001b[39mbackward,\n\u001b[1;32m    619\u001b[0m         (\u001b[38;5;28mself\u001b[39m,),\n\u001b[0;32m   (...)\u001b[0m\n\u001b[1;32m    624\u001b[0m         inputs\u001b[38;5;241m=\u001b[39minputs,\n\u001b[1;32m    625\u001b[0m     )\n\u001b[0;32m--> 626\u001b[0m \u001b[43mtorch\u001b[49m\u001b[38;5;241;43m.\u001b[39;49m\u001b[43mautograd\u001b[49m\u001b[38;5;241;43m.\u001b[39;49m\u001b[43mbackward\u001b[49m\u001b[43m(\u001b[49m\n\u001b[1;32m    627\u001b[0m \u001b[43m    \u001b[49m\u001b[38;5;28;43mself\u001b[39;49m\u001b[43m,\u001b[49m\u001b[43m \u001b[49m\u001b[43mgradient\u001b[49m\u001b[43m,\u001b[49m\u001b[43m \u001b[49m\u001b[43mretain_graph\u001b[49m\u001b[43m,\u001b[49m\u001b[43m \u001b[49m\u001b[43mcreate_graph\u001b[49m\u001b[43m,\u001b[49m\u001b[43m \u001b[49m\u001b[43minputs\u001b[49m\u001b[38;5;241;43m=\u001b[39;49m\u001b[43minputs\u001b[49m\n\u001b[1;32m    628\u001b[0m \u001b[43m\u001b[49m\u001b[43m)\u001b[49m\n",
      "File \u001b[0;32m~/Escritorio/UA/ex-basics/lib/python3.12/site-packages/torch/autograd/__init__.py:347\u001b[0m, in \u001b[0;36mbackward\u001b[0;34m(tensors, grad_tensors, retain_graph, create_graph, grad_variables, inputs)\u001b[0m\n\u001b[1;32m    342\u001b[0m     retain_graph \u001b[38;5;241m=\u001b[39m create_graph\n\u001b[1;32m    344\u001b[0m \u001b[38;5;66;03m# The reason we repeat the same comment below is that\u001b[39;00m\n\u001b[1;32m    345\u001b[0m \u001b[38;5;66;03m# some Python versions print out the first line of a multi-line function\u001b[39;00m\n\u001b[1;32m    346\u001b[0m \u001b[38;5;66;03m# calls in the traceback and some print out the last line\u001b[39;00m\n\u001b[0;32m--> 347\u001b[0m \u001b[43m_engine_run_backward\u001b[49m\u001b[43m(\u001b[49m\n\u001b[1;32m    348\u001b[0m \u001b[43m    \u001b[49m\u001b[43mtensors\u001b[49m\u001b[43m,\u001b[49m\n\u001b[1;32m    349\u001b[0m \u001b[43m    \u001b[49m\u001b[43mgrad_tensors_\u001b[49m\u001b[43m,\u001b[49m\n\u001b[1;32m    350\u001b[0m \u001b[43m    \u001b[49m\u001b[43mretain_graph\u001b[49m\u001b[43m,\u001b[49m\n\u001b[1;32m    351\u001b[0m \u001b[43m    \u001b[49m\u001b[43mcreate_graph\u001b[49m\u001b[43m,\u001b[49m\n\u001b[1;32m    352\u001b[0m \u001b[43m    \u001b[49m\u001b[43minputs\u001b[49m\u001b[43m,\u001b[49m\n\u001b[1;32m    353\u001b[0m \u001b[43m    \u001b[49m\u001b[43mallow_unreachable\u001b[49m\u001b[38;5;241;43m=\u001b[39;49m\u001b[38;5;28;43;01mTrue\u001b[39;49;00m\u001b[43m,\u001b[49m\n\u001b[1;32m    354\u001b[0m \u001b[43m    \u001b[49m\u001b[43maccumulate_grad\u001b[49m\u001b[38;5;241;43m=\u001b[39;49m\u001b[38;5;28;43;01mTrue\u001b[39;49;00m\u001b[43m,\u001b[49m\n\u001b[1;32m    355\u001b[0m \u001b[43m\u001b[49m\u001b[43m)\u001b[49m\n",
      "File \u001b[0;32m~/Escritorio/UA/ex-basics/lib/python3.12/site-packages/torch/autograd/graph.py:823\u001b[0m, in \u001b[0;36m_engine_run_backward\u001b[0;34m(t_outputs, *args, **kwargs)\u001b[0m\n\u001b[1;32m    821\u001b[0m     unregister_hooks \u001b[38;5;241m=\u001b[39m _register_logging_hooks_on_whole_graph(t_outputs)\n\u001b[1;32m    822\u001b[0m \u001b[38;5;28;01mtry\u001b[39;00m:\n\u001b[0;32m--> 823\u001b[0m     \u001b[38;5;28;01mreturn\u001b[39;00m \u001b[43mVariable\u001b[49m\u001b[38;5;241;43m.\u001b[39;49m\u001b[43m_execution_engine\u001b[49m\u001b[38;5;241;43m.\u001b[39;49m\u001b[43mrun_backward\u001b[49m\u001b[43m(\u001b[49m\u001b[43m  \u001b[49m\u001b[38;5;66;43;03m# Calls into the C++ engine to run the backward pass\u001b[39;49;00m\n\u001b[1;32m    824\u001b[0m \u001b[43m        \u001b[49m\u001b[43mt_outputs\u001b[49m\u001b[43m,\u001b[49m\u001b[43m \u001b[49m\u001b[38;5;241;43m*\u001b[39;49m\u001b[43margs\u001b[49m\u001b[43m,\u001b[49m\u001b[43m \u001b[49m\u001b[38;5;241;43m*\u001b[39;49m\u001b[38;5;241;43m*\u001b[39;49m\u001b[43mkwargs\u001b[49m\n\u001b[1;32m    825\u001b[0m \u001b[43m    \u001b[49m\u001b[43m)\u001b[49m  \u001b[38;5;66;03m# Calls into the C++ engine to run the backward pass\u001b[39;00m\n\u001b[1;32m    826\u001b[0m \u001b[38;5;28;01mfinally\u001b[39;00m:\n\u001b[1;32m    827\u001b[0m     \u001b[38;5;28;01mif\u001b[39;00m attach_logging_hooks:\n",
      "\u001b[0;31mKeyboardInterrupt\u001b[0m: "
     ]
    }
   ],
   "source": [
    "device = torch.device('cuda' if torch.cuda.is_available() else 'cpu')\n",
    "model = model.to(device)\n",
    "criterion = torch.nn.CrossEntropyLoss()\n",
    "optimizer = torch.optim.Adam(model.parameters(), lr=0.001)\n",
    "\n",
    "# Función de entrenamiento\n",
    "def train(model, dataloader, epochs=50):\n",
    "    model.train()\n",
    "    for epoch in range(epochs):\n",
    "        total_loss = 0\n",
    "        for batch in dataloader:\n",
    "            inputs = batch['input_seq'].to(device)\n",
    "            tonalities = batch['tonality'].to(device)\n",
    "            targets = batch['target'].to(device)\n",
    "            \n",
    "            optimizer.zero_grad()\n",
    "            outputs = model(inputs, tonalities)\n",
    "            loss = criterion(outputs, targets)\n",
    "            loss.backward()\n",
    "            optimizer.step()\n",
    "            \n",
    "            total_loss += loss.item()\n",
    "        \n",
    "        print(f'Epoch {epoch+1}, Loss: {total_loss/len(dataloader):.4f}')\n",
    "\n",
    "# Ejecutar entrenamiento\n",
    "train(model, train_loader, epochs=10)"
   ]
  },
  {
   "cell_type": "markdown",
   "id": "5fa39312",
   "metadata": {},
   "source": [
    "Test loop"
   ]
  },
  {
   "cell_type": "code",
   "execution_count": null,
   "id": "1005fad1",
   "metadata": {},
   "outputs": [],
   "source": [
    "def generate_chords(model, starting_chords, tonality, length=10, temperature=0.7):\n",
    "    model.eval()\n",
    "    with torch.no_grad():\n",
    "        # Codificar entrada\n",
    "        encoded_tonality = tonality_encoder.transform([tonality])[0]\n",
    "        current_seq = chord_encoder.transform(starting_chords)\n",
    "        \n",
    "        for _ in range(length):\n",
    "            inputs = torch.tensor([current_seq[-SEQUENCE_LENGTH:]], dtype=torch.long).to(device)\n",
    "            tonality_tensor = torch.tensor([encoded_tonality], dtype=torch.long).to(device)\n",
    "            \n",
    "            # Predicción\n",
    "            output = model(inputs, tonality_tensor)\n",
    "            probs = torch.softmax(output / temperature, dim=-1)\n",
    "            next_chord = torch.multinomial(probs, 1).item()\n",
    "            \n",
    "            current_seq = np.append(current_seq, next_chord)\n",
    "        \n",
    "        return chord_encoder.inverse_transform(current_seq)\n",
    "\n",
    "# Ejemplo de uso\n",
    "starting_progression = ['C', 'G', 'Am', 'F']\n",
    "tonality = 'C_MAJOR'\n",
    "generated = generate_chords(model, starting_progression, tonality, length=8)\n",
    "print(\"Progresión generada:\", generated)"
   ]
  }
 ],
 "metadata": {
  "kernelspec": {
   "display_name": "ex-basics",
   "language": "python",
   "name": "python3"
  },
  "language_info": {
   "codemirror_mode": {
    "name": "ipython",
    "version": 3
   },
   "file_extension": ".py",
   "mimetype": "text/x-python",
   "name": "python",
   "nbconvert_exporter": "python",
   "pygments_lexer": "ipython3",
   "version": "3.12.7"
  }
 },
 "nbformat": 4,
 "nbformat_minor": 5
}
