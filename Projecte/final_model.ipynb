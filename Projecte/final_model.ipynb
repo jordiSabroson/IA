{
 "cells": [
  {
   "cell_type": "markdown",
   "id": "4aaaac5e",
   "metadata": {},
   "source": [
    "Preprocessar dades per al model"
   ]
  },
  {
   "cell_type": "code",
   "execution_count": 56,
   "id": "91416e8e",
   "metadata": {},
   "outputs": [],
   "source": [
    "import torch\n",
    "from torch.utils.data import Dataset, DataLoader\n",
    "from sklearn.preprocessing import LabelEncoder\n",
    "import numpy as np\n",
    "import json\n",
    "\n",
    "# Cargar datos preprocesados\n",
    "with open('data/dataset_tonality_chords.json') as f:\n",
    "    data = json.load(f)\n",
    "\n",
    "# Preparar encoder para acordes\n",
    "all_chords = list(set(c for song in data['songs'] for c in song['chords']))\n",
    "chord_encoder = LabelEncoder()\n",
    "chord_encoder.fit(all_chords)\n",
    "\n",
    "# Preparar encoder para tonalidades\n",
    "tonalities = list(set(song['tonality'] for song in data['songs']))\n",
    "tonality_encoder = LabelEncoder()\n",
    "tonality_encoder.fit(tonalities)\n",
    "\n",
    "# Parámetros\n",
    "SEQUENCE_LENGTH = 8  # Longitud de secuencias de entrada\n",
    "BATCH_SIZE = 32"
   ]
  },
  {
   "cell_type": "markdown",
   "id": "9e53a9a3",
   "metadata": {},
   "source": [
    "Clase Dataset"
   ]
  },
  {
   "cell_type": "code",
   "execution_count": 57,
   "id": "b8df8581",
   "metadata": {},
   "outputs": [
    {
     "ename": "KeyboardInterrupt",
     "evalue": "",
     "output_type": "error",
     "traceback": [
      "\u001b[0;31m---------------------------------------------------------------------------\u001b[0m",
      "\u001b[0;31mKeyboardInterrupt\u001b[0m                         Traceback (most recent call last)",
      "\u001b[0;31mKeyboardInterrupt\u001b[0m: "
     ]
    }
   ],
   "source": [
    "class ChordDataset(Dataset):\n",
    "    def __init__(self, songs, chord_encoder, tonality_encoder, seq_length):\n",
    "        self.songs = songs\n",
    "        self.chord_encoder = chord_encoder\n",
    "        self.tonality_encoder = tonality_encoder\n",
    "        self.seq_length = seq_length\n",
    "        self.sequences = self._create_sequences()\n",
    "        \n",
    "    def _create_sequences(self):\n",
    "        sequences = []\n",
    "        for song in self.songs:\n",
    "            chords = song['chords']\n",
    "            tonality = song['tonality']\n",
    "            \n",
    "            # Codificar acordes y tonalidad\n",
    "            encoded_chords = self.chord_encoder.transform(chords)\n",
    "            encoded_tonality = self.tonality_encoder.transform([tonality])[0]\n",
    "            \n",
    "            # Crear secuencias deslizantes\n",
    "            for i in range(len(encoded_chords) - self.seq_length):\n",
    "                seq = encoded_chords[i:i+self.seq_length]\n",
    "                target = encoded_chords[i+self.seq_length]\n",
    "                sequences.append({\n",
    "                    'input_seq': seq,\n",
    "                    'tonality': encoded_tonality,\n",
    "                    'target': target\n",
    "                })\n",
    "        return sequences\n",
    "    \n",
    "    def __len__(self):\n",
    "        return len(self.sequences)\n",
    "    \n",
    "    def __getitem__(self, idx):\n",
    "        seq = self.sequences[idx]\n",
    "        return {\n",
    "            'input_seq': torch.tensor(seq['input_seq'], dtype=torch.long),\n",
    "            'tonality': torch.tensor(seq['tonality'], dtype=torch.long),\n",
    "            'target': torch.tensor(seq['target'], dtype=torch.long)\n",
    "        }\n",
    "\n",
    "# Crear datasets\n",
    "dataset = ChordDataset(data['songs'], chord_encoder, tonality_encoder, SEQUENCE_LENGTH)\n",
    "train_loader = DataLoader(dataset, batch_size=BATCH_SIZE, shuffle=True)"
   ]
  },
  {
   "cell_type": "markdown",
   "id": "25a6043e",
   "metadata": {},
   "source": [
    "Model"
   ]
  },
  {
   "cell_type": "code",
   "execution_count": 7,
   "id": "b248bf16",
   "metadata": {},
   "outputs": [],
   "source": [
    "class ChordLSTM(torch.nn.Module):\n",
    "    def __init__(self, vocab_size, tonality_size, embedding_dim=64, hidden_dim=128):\n",
    "        super().__init__()\n",
    "        self.chord_embedding = torch.nn.Embedding(vocab_size, embedding_dim)\n",
    "        self.tonality_embedding = torch.nn.Embedding(tonality_size, embedding_dim)\n",
    "        self.lstm = torch.nn.LSTM(embedding_dim * 2, hidden_dim, batch_first=True)\n",
    "        self.fc = torch.nn.Linear(hidden_dim, vocab_size)\n",
    "        \n",
    "    def forward(self, x, tonality):\n",
    "        # Embeddings\n",
    "        chord_emb = self.chord_embedding(x)\n",
    "        tonality_emb = self.tonality_embedding(tonality).unsqueeze(1).expand(-1, x.size(1), -1)\n",
    "        \n",
    "        # Concatenar\n",
    "        combined = torch.cat([chord_emb, tonality_emb], dim=-1)\n",
    "        \n",
    "        # LSTM\n",
    "        lstm_out, _ = self.lstm(combined)\n",
    "        \n",
    "        # Solo la última posición temporal\n",
    "        last_out = lstm_out[:, -1, :]\n",
    "        \n",
    "        return self.fc(last_out)\n",
    "\n",
    "# Inicializar modelo\n",
    "model = ChordLSTM(\n",
    "    vocab_size=len(chord_encoder.classes_),\n",
    "    tonality_size=len(tonality_encoder.classes_)\n",
    ")"
   ]
  },
  {
   "cell_type": "markdown",
   "id": "6440e35c",
   "metadata": {},
   "source": [
    "Train loop"
   ]
  },
  {
   "cell_type": "code",
   "execution_count": 8,
   "id": "c661f6a5",
   "metadata": {},
   "outputs": [
    {
     "name": "stderr",
     "output_type": "stream",
     "text": [
      "/home/iticbcn/Escritorio/UA/ex-basics/lib/python3.12/site-packages/torch/cuda/__init__.py:129: UserWarning: CUDA initialization: CUDA unknown error - this may be due to an incorrectly set up environment, e.g. changing env variable CUDA_VISIBLE_DEVICES after program start. Setting the available devices to be zero. (Triggered internally at /pytorch/c10/cuda/CUDAFunctions.cpp:109.)\n",
      "  return torch._C._cuda_getDeviceCount() > 0\n"
     ]
    },
    {
     "name": "stdout",
     "output_type": "stream",
     "text": [
      "Epoch 1, Loss: 1.5406\n",
      "Epoch 2, Loss: 1.5002\n",
      "Epoch 3, Loss: 1.4866\n",
      "Epoch 4, Loss: 1.4789\n",
      "Epoch 5, Loss: 1.4739\n",
      "Epoch 6, Loss: 1.4706\n",
      "Epoch 7, Loss: 1.4681\n",
      "Epoch 8, Loss: 1.4663\n",
      "Epoch 9, Loss: 1.4650\n",
      "Epoch 10, Loss: 1.4641\n",
      "Epoch 11, Loss: 1.4631\n",
      "Epoch 12, Loss: 1.4627\n",
      "Epoch 13, Loss: 1.4623\n",
      "Epoch 14, Loss: 1.4618\n",
      "Epoch 15, Loss: 1.4618\n",
      "Epoch 16, Loss: 1.4616\n",
      "Epoch 17, Loss: 1.4615\n",
      "Epoch 18, Loss: 1.4614\n",
      "Epoch 19, Loss: 1.4616\n",
      "Epoch 20, Loss: 1.4612\n",
      "Epoch 21, Loss: 1.4613\n",
      "Epoch 22, Loss: 1.4616\n",
      "Epoch 23, Loss: 1.4615\n",
      "Epoch 24, Loss: 1.4621\n",
      "Epoch 25, Loss: 1.4619\n",
      "Epoch 26, Loss: 1.4624\n",
      "Epoch 27, Loss: 1.4626\n",
      "Epoch 28, Loss: 1.4628\n",
      "Epoch 29, Loss: 1.4629\n",
      "Epoch 30, Loss: 1.4633\n",
      "Epoch 31, Loss: 1.4638\n",
      "Epoch 32, Loss: 1.4641\n",
      "Epoch 33, Loss: 1.4645\n",
      "Epoch 34, Loss: 1.4648\n",
      "Epoch 35, Loss: 1.4655\n",
      "Epoch 36, Loss: 1.4654\n",
      "Epoch 37, Loss: 1.4658\n",
      "Epoch 38, Loss: 1.4665\n",
      "Epoch 39, Loss: 1.4668\n",
      "Epoch 40, Loss: 1.4667\n",
      "Epoch 41, Loss: 1.4674\n",
      "Epoch 42, Loss: 1.4676\n",
      "Epoch 43, Loss: 1.4684\n",
      "Epoch 44, Loss: 1.4686\n",
      "Epoch 45, Loss: 1.4695\n",
      "Epoch 46, Loss: 1.4692\n",
      "Epoch 47, Loss: 1.4701\n",
      "Epoch 48, Loss: 1.4703\n",
      "Epoch 49, Loss: 1.4707\n",
      "Epoch 50, Loss: 1.4714\n"
     ]
    }
   ],
   "source": [
    "device = torch.device('cuda' if torch.cuda.is_available() else 'cpu')\n",
    "model = model.to(device)\n",
    "criterion = torch.nn.CrossEntropyLoss()\n",
    "optimizer = torch.optim.Adam(model.parameters(), lr=0.001)\n",
    "\n",
    "# Función de entrenamiento\n",
    "def train(model, dataloader, epochs=50):\n",
    "    model.train()\n",
    "    for epoch in range(epochs):\n",
    "        total_loss = 0\n",
    "        for batch in dataloader:\n",
    "            inputs = batch['input_seq'].to(device)\n",
    "            tonalities = batch['tonality'].to(device)\n",
    "            targets = batch['target'].to(device)\n",
    "            \n",
    "            optimizer.zero_grad()\n",
    "            outputs = model(inputs, tonalities)\n",
    "            loss = criterion(outputs, targets)\n",
    "            \n",
    "            loss.backward()\n",
    "            optimizer.step()\n",
    "            \n",
    "            total_loss += loss.item()\n",
    "        \n",
    "        print(f'Epoch {epoch+1}, Loss: {total_loss/len(dataloader):.4f}')\n",
    "    torch.save(model.state_dict(), \"model_final.pth\")\n",
    "\n",
    "# Ejecutar entrenamiento\n",
    "train(model, train_loader)"
   ]
  },
  {
   "cell_type": "markdown",
   "id": "5fa39312",
   "metadata": {},
   "source": [
    "Test loop"
   ]
  },
  {
   "cell_type": "markdown",
   "id": "31c741f4",
   "metadata": {},
   "source": []
  },
  {
   "cell_type": "code",
   "execution_count": 111,
   "id": "1005fad1",
   "metadata": {},
   "outputs": [
    {
     "name": "stdout",
     "output_type": "stream",
     "text": [
      "Progresión generada: ['C' 'Cm' 'C' 'Cm' 'C' 'Cm' 'C' 'Cm' 'C' 'Cm' 'C']\n"
     ]
    }
   ],
   "source": [
    "def generate_chords(model, starting_chords, tonality, length=10, temperature=0.7):\n",
    "    model.eval()\n",
    "    with torch.no_grad():\n",
    "        # Codificar entrada\n",
    "        encoded_tonality = tonality_encoder.transform([tonality])[0]\n",
    "        current_seq = chord_encoder.transform(starting_chords)\n",
    "        \n",
    "        for _ in range(length):\n",
    "            inputs = torch.tensor([current_seq[-SEQUENCE_LENGTH:]], dtype=torch.long).to(device)\n",
    "            tonality_tensor = torch.tensor([encoded_tonality], dtype=torch.long).to(device)\n",
    "            \n",
    "            # Predicción\n",
    "            output = model(inputs, tonality_tensor)\n",
    "            probs = torch.softmax(output / temperature, dim=-1)\n",
    "            next_chord = torch.multinomial(probs, 1).item()\n",
    "            \n",
    "            current_seq = np.append(current_seq, next_chord)\n",
    "        \n",
    "        return chord_encoder.inverse_transform(current_seq)\n",
    "\n",
    "# Ejemplo de uso\n",
    "starting_progression = ['C']\n",
    "tonality = 'C_MAJOR'\n",
    "model.load_state_dict(torch.load(\"model_final.pth\"))\n",
    "generated = generate_chords(model, starting_progression, tonality, length=10)\n",
    "print(\"Progresión generada:\", generated)"
   ]
  },
  {
   "cell_type": "code",
   "execution_count": null,
   "id": "0bb39188",
   "metadata": {},
   "outputs": [],
   "source": []
  }
 ],
 "metadata": {
  "kernelspec": {
   "display_name": "ex-basics",
   "language": "python",
   "name": "python3"
  },
  "language_info": {
   "codemirror_mode": {
    "name": "ipython",
    "version": 3
   },
   "file_extension": ".py",
   "mimetype": "text/x-python",
   "name": "python",
   "nbconvert_exporter": "python",
   "pygments_lexer": "ipython3",
   "version": "3.12.7"
  }
 },
 "nbformat": 4,
 "nbformat_minor": 5
}
