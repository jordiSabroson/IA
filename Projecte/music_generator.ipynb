{
 "cells": [
  {
   "cell_type": "markdown",
   "id": "91f4c59a",
   "metadata": {},
   "source": [
    "# Generador de música\n",
    "### Aquest projecte serveix per generar notes musicals seguint una estructura segons el gènere musical seleccionat"
   ]
  },
  {
   "cell_type": "markdown",
   "id": "d5c4dee3",
   "metadata": {},
   "source": [
    "Importem els paquets necessaris"
   ]
  },
  {
   "cell_type": "code",
   "execution_count": null,
   "id": "623eec0a",
   "metadata": {},
   "outputs": [],
   "source": [
    "import os\n",
    "from pathlib import Path\n",
    "\n",
    "def obtener_track_id_desde_path(midi_path):\n",
    "    path = Path(midi_path)\n",
    "    return path.parent.name if len(path.parts) >= 2 else None\n",
    "\n",
    "print(obtener_track_id_desde_path(\"lmd_matched/A/A/A/TRAAAGR128F425B14B/1d9d16a9da90c090809c153754823c2b.mid\"))"
   ]
  },
  {
   "cell_type": "code",
   "execution_count": null,
   "id": "880b8fad",
   "metadata": {},
   "outputs": [],
   "source": [
    "import os\n",
    "import json\n",
    "\n",
    "LMD_MATCHED_DIR = 'lmd_matched'\n",
    "MSD_METADATA_DIR = 'lastfm_train'\n",
    "\n",
    "# Géneros que te interesan\n",
    "COMMON_GENRES = {\n",
    "    'rock', 'pop', 'jazz', 'blues', 'hip hop', 'rap', 'electronic',\n",
    "    'dance', 'classical', 'metal', 'punk', 'country', 'folk',\n",
    "    'reggae', 'r&b', 'soul', 'disco', 'house', 'techno', 'funk',\n",
    "    'alternative', 'indie', 'grunge', 'trance', 'synthpop', 'electropop'\n",
    "}\n",
    "\n",
    "# Normaliza el texto del género\n",
    "def normalize_genre(genre):\n",
    "    return genre.lower().strip()\n",
    "\n",
    "# Carga los metadatos y extrae el género válido\n",
    "def extract_genre(mbid):\n",
    "    metadata_path = os.path.join(MSD_METADATA_DIR, mbid + '.json')\n",
    "    if not os.path.exists(metadata_path):\n",
    "        return None\n",
    "\n",
    "    with open(metadata_path, 'r', encoding='utf-8') as f:\n",
    "        data = json.load(f)\n",
    "        print(data)\n",
    "\n",
    "    tags = data.get('tags', [])\n",
    "    for tag_entry in tags:\n",
    "        if isinstance(tag_entry, list) and len(tag_entry) >= 1:\n",
    "            tag = tag_entry[0].lower().strip()\n",
    "            if tag in COMMON_GENRES:\n",
    "                return tag\n",
    "    return None\n",
    "\n",
    "# Asociación final: solo mbid, midi_path y género\n",
    "midi_with_genres = []\n",
    "\n",
    "for root, _, files in os.walk(LMD_MATCHED_DIR):\n",
    "    for file in files:\n",
    "        if file.lower().endswith('.mid') or file.lower().endswith('.midi'):\n",
    "            mbid = os.path.basename(root)\n",
    "            midi_path = os.path.join(root, file)\n",
    "            genre = extract_genre(mbid)\n",
    "\n",
    "            if genre:\n",
    "                midi_with_genres.append({\n",
    "                    'mbid': mbid,\n",
    "                    'midi_path': midi_path,\n",
    "                    'genre': genre\n",
    "                })\n",
    "\n",
    "# Guardamos el resultado\n",
    "with open('lmd_genre_filtered.json', 'w') as out_f:\n",
    "    json.dump(midi_with_genres, out_f, indent=2)\n",
    "\n",
    "print(f\"Total MIDI con género válido: {len(midi_with_genres)}\")\n"
   ]
  },
  {
   "cell_type": "code",
   "execution_count": null,
   "id": "e0bfab00",
   "metadata": {},
   "outputs": [],
   "source": [
    "import pretty_midi\n",
    "\n",
    "midi = pretty_midi.PrettyMIDI(\"Midi Dataset Clean/ARMSTRONG_LOUIS/What_a_Wonderful_World.mid\")"
   ]
  },
  {
   "cell_type": "code",
   "execution_count": null,
   "id": "10b00d83",
   "metadata": {},
   "outputs": [],
   "source": [
    "from music21 import converter, chord\n",
    "score = converter.parse(\"Midi Dataset Clean/ARMSTRONG_LOUIS/What_a_Wonderful_World.mid\")\n",
    "chords = score.chordify()\n",
    "\n",
    "print(chords)"
   ]
  },
  {
   "cell_type": "code",
   "execution_count": null,
   "id": "55c30afa",
   "metadata": {},
   "outputs": [],
   "source": [
    "import os\n",
    "import json\n",
    "import pretty_midi\n",
    "\n",
    "def extract_chords_from_midi(midi_path):\n",
    "    try:\n",
    "        midi_data = pretty_midi.PrettyMIDI(midi_path)\n",
    "        chords = set()\n",
    "\n",
    "        for instrument in midi_data.instruments:\n",
    "            if instrument.is_drum:\n",
    "                continue\n",
    "            notes = instrument.notes\n",
    "            if len(notes) < 3:\n",
    "                continue\n",
    "\n",
    "            # Agrupar por tiempo cercano para detectar acordes\n",
    "            notes.sort(key=lambda note: note.start)\n",
    "            current_chord = []\n",
    "            last_start = None\n",
    "            for note in notes:\n",
    "                if last_start is None or abs(note.start - last_start) < 0.05:\n",
    "                    current_chord.append(note.pitch)\n",
    "                    last_start = note.start\n",
    "                else:\n",
    "                    if len(current_chord) >= 3:\n",
    "                        chord = tuple(sorted(current_chord))\n",
    "                        chords.add(chord)\n",
    "                    current_chord = [note.pitch]\n",
    "                    last_start = note.start\n",
    "            if len(current_chord) >= 3:\n",
    "                chord = tuple(sorted(current_chord))\n",
    "                chords.add(chord)\n",
    "\n",
    "        return [list(chord) for chord in chords]\n",
    "    except Exception as e:\n",
    "        print(f\"Error en {midi_path}: {e}\")\n",
    "        return []\n",
    "\n",
    "# Ruta al directorio raíz\n",
    "root_dir = \"Midi Dataset Clean\"\n",
    "output = {}\n",
    "\n",
    "for dirpath, dirnames, filenames in os.walk(root_dir):\n",
    "    for filename in filenames:\n",
    "        if filename.lower().endswith((\".mid\", \".midi\")):\n",
    "            midi_path = os.path.join(dirpath, filename)\n",
    "            chords = extract_chords_from_midi(midi_path)\n",
    "            if chords:\n",
    "                output[os.path.relpath(midi_path, root_dir)] = chords\n",
    "\n",
    "# Guardar a un JSON\n",
    "with open(\"midi_chords.json\", \"w\") as f:\n",
    "    json.dump(output, f, indent=2)\n"
   ]
  },
  {
   "cell_type": "code",
   "execution_count": null,
   "id": "60957c9b",
   "metadata": {},
   "outputs": [],
   "source": [
    "from music21 import chord, pitch\n",
    "\n",
    "def midi_notes_to_chord_name(notes):\n",
    "    try:\n",
    "        c = chord.Chord(notes)\n",
    "        return c.figure  # Ej: \"C\", \"Am\", \"G7\"\n",
    "    except Exception:\n",
    "        return None\n"
   ]
  },
  {
   "cell_type": "code",
   "execution_count": null,
   "id": "d66b9cc3",
   "metadata": {},
   "outputs": [],
   "source": [
    "with open(\"midi_chords.json\", \"r\") as f:\n",
    "    data = json.load(f)\n",
    "\n",
    "sequences = []\n",
    "for midi_path, chords in data.items():\n",
    "    sequence = []\n",
    "    for chord_notes in chords:\n",
    "        name = midi_notes_to_chord_name(chord_notes)\n",
    "        if name:\n",
    "            sequence.append(name)\n",
    "    if sequence:\n",
    "        sequences.append(sequence)\n"
   ]
  },
  {
   "cell_type": "code",
   "execution_count": null,
   "id": "62dbee31",
   "metadata": {},
   "outputs": [],
   "source": [
    "from keras.preprocessing.text import Tokenizer\n",
    "from keras.utils import pad_sequences\n",
    "\n",
    "tokenizer = Tokenizer(filters='', lower=False)\n",
    "tokenizer.fit_on_texts(sequences)\n",
    "sequences_int = tokenizer.texts_to_sequences(sequences)\n",
    "\n",
    "max_len = max(len(seq) for seq in sequences_int)\n",
    "padded_sequences = pad_sequences(sequences_int, maxlen=max_len, padding='post')\n"
   ]
  },
  {
   "cell_type": "code",
   "execution_count": null,
   "id": "c3762073",
   "metadata": {},
   "outputs": [],
   "source": [
    "estructura = [\"estrofa\", \"estrofa\", \"puente\", \"estribillo\"] * 2\n"
   ]
  },
  {
   "cell_type": "code",
   "execution_count": null,
   "id": "a6e57284",
   "metadata": {},
   "outputs": [],
   "source": [
    "from keras.models import Sequential\n",
    "from keras.layers import Embedding, LSTM, Dense\n",
    "\n",
    "model = Sequential([\n",
    "    Embedding(input_dim=len(tokenizer.word_index)+1, output_dim=64),\n",
    "    LSTM(128, return_sequences=True),\n",
    "    LSTM(128),\n",
    "    Dense(len(tokenizer.word_index)+1, activation='softmax')\n",
    "])\n",
    "\n",
    "model.compile(loss='sparse_categorical_crossentropy', optimizer='adam')\n"
   ]
  },
  {
   "cell_type": "code",
   "execution_count": null,
   "id": "12513bd0",
   "metadata": {},
   "outputs": [],
   "source": [
    "X = padded_sequences[:, :-1]\n",
    "y = padded_sequences[:, 1:]\n",
    "\n",
    "model.fit(X, y, epochs=50, batch_size=32)\n"
   ]
  }
 ],
 "metadata": {
  "kernelspec": {
   "display_name": "ex-basics",
   "language": "python",
   "name": "python3"
  },
  "language_info": {
   "codemirror_mode": {
    "name": "ipython",
    "version": 3
   },
   "file_extension": ".py",
   "mimetype": "text/x-python",
   "name": "python",
   "nbconvert_exporter": "python",
   "pygments_lexer": "ipython3",
   "version": "3.12.7"
  }
 },
 "nbformat": 4,
 "nbformat_minor": 5
}
