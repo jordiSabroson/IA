{
 "cells": [
  {
   "cell_type": "code",
   "execution_count": null,
   "id": "2bca08da",
   "metadata": {},
   "outputs": [],
   "source": [
    "import json\n",
    "\n",
    "# === Cargar JSON ===\n",
    "with open(\"data/simplified_chords.json\", \"r\") as f:\n",
    "    data = json.load(f)\n",
    "\n",
    "# === Configuración ===\n",
    "MAX_SEQ_LEN = 4  # Tamaño del contexto para predecir el siguiente acorde\n",
    "DEFAULT_TONALITY = \"<C_MAJOR>\"  # Puedes cambiarlo o inferirlo más adelante\n",
    "\n",
    "# === Construcción de datos para entrenamiento ===\n",
    "training_data = []\n",
    "\n",
    "for artist, songs in data.items():\n",
    "    for song, chords in songs.items():\n",
    "        # Normalizar acordes: mayúsculas, sin espacios\n",
    "        normalized_chords = [chord.strip().capitalize() for chord in chords if chord.strip()]\n",
    "        \n",
    "        # Saltar canciones muy cortas\n",
    "        if len(normalized_chords) <= MAX_SEQ_LEN:\n",
    "            continue\n",
    "\n",
    "        # Extraer pares (input_seq, target)\n",
    "        for i in range(MAX_SEQ_LEN, len(normalized_chords)):\n",
    "            input_seq = normalized_chords[i - MAX_SEQ_LEN:i]\n",
    "            target = normalized_chords[i]\n",
    "            input_with_tonality = [DEFAULT_TONALITY] + input_seq\n",
    "            training_data.append((input_with_tonality, target))\n",
    "\n",
    "# === Guardar datos procesados ===\n",
    "with open(\"data/processed_training_data.json\", \"w\") as f:\n",
    "    json.dump(training_data, f, indent=2)\n",
    "\n",
    "print(f\"✅ Generados {len(training_data)} pares secuencia → acorde.\")\n"
   ]
  },
  {
   "cell_type": "markdown",
   "id": "933f5886",
   "metadata": {},
   "source": [
    "Configuració global"
   ]
  },
  {
   "cell_type": "code",
   "execution_count": null,
   "id": "169b9105",
   "metadata": {},
   "outputs": [],
   "source": [
    "import torch\n",
    "import torch.nn as nn\n",
    "from torch.utils.data import Dataset, DataLoader\n",
    "\n",
    "# === Hiperparámetros ===\n",
    "EMBEDDING_DIM = 64\n",
    "HIDDEN_DIM = 128\n",
    "BATCH_SIZE = 64\n",
    "EPOCHS = 10\n",
    "LEARNING_RATE = 1e-5"
   ]
  },
  {
   "cell_type": "markdown",
   "id": "fb89e9c4",
   "metadata": {},
   "source": [
    "Dades amb les que treballarem"
   ]
  },
  {
   "cell_type": "code",
   "execution_count": null,
   "id": "32d8a9c3",
   "metadata": {},
   "outputs": [],
   "source": [
    "# === Cargar datos procesados ===\n",
    "with open(\"data/processed_training_data.json\") as f:\n",
    "    raw_data = json.load(f)\n",
    "\n",
    "# === Crear vocabulario ===\n",
    "token_set = set()\n",
    "for seq, target in raw_data:\n",
    "    token_set.update(seq)\n",
    "    token_set.add(target)\n",
    "\n",
    "token2idx = {token: i for i, token in enumerate(sorted(token_set))}\n",
    "idx2token = {i: token for token, i in token2idx.items()}\n",
    "\n",
    "with open(\"chord_vocab.json\", \"w\") as f:\n",
    "    json.dump(token2idx, f)\n",
    "\n",
    "with open(\"data/chord_vocab.json\", \"r\") as f:\n",
    "    vocab = json.load(f)"
   ]
  },
  {
   "cell_type": "code",
   "execution_count": null,
   "id": "10c3cd35",
   "metadata": {},
   "outputs": [],
   "source": [
    "# === Dataset personalizado ===\n",
    "class ChordDataset(Dataset):\n",
    "    def __init__(self, data, token2idx):\n",
    "        self.data = data\n",
    "        self.token2idx = token2idx\n",
    "\n",
    "    def __len__(self):\n",
    "        return len(self.data)\n",
    "\n",
    "    def __getitem__(self, idx):\n",
    "        seq, target = self.data[idx]\n",
    "        seq_ids = [self.token2idx[token] for token in seq]\n",
    "        target_id = self.token2idx[target]\n",
    "        return torch.tensor(seq_ids), torch.tensor(target_id)\n",
    "\n",
    "# === Modelo secuencial ===\n",
    "class ChordLSTM(nn.Module):\n",
    "    def __init__(self, vocab_size, embedding_dim, hidden_dim):\n",
    "        super().__init__()\n",
    "        self.embedding = nn.Embedding(vocab_size, embedding_dim)\n",
    "        self.lstm = nn.LSTM(embedding_dim, hidden_dim, batch_first=True)\n",
    "        self.fc = nn.Linear(hidden_dim, vocab_size)\n",
    "\n",
    "    def forward(self, x):\n",
    "        embedded = self.embedding(x)\n",
    "        lstm_out, _ = self.lstm(embedded)\n",
    "        output = self.fc(lstm_out[:, -1, :])\n",
    "        return output\n",
    "\n",
    "# === Preparar DataLoader ===\n",
    "dataset = ChordDataset(raw_data, token2idx)\n",
    "dataloader = DataLoader(dataset, batch_size=BATCH_SIZE, shuffle=True)\n",
    "\n",
    "# === Entrenar en CUDA si está disponible ===\n",
    "device = torch.device(\"cuda\" if torch.cuda.is_available() else \"cpu\")\n",
    "model = ChordLSTM(len(token2idx), EMBEDDING_DIM, HIDDEN_DIM).to(device)\n",
    "optimizer = torch.optim.Adam(model.parameters(), lr=LEARNING_RATE)\n",
    "criterion = nn.CrossEntropyLoss()\n"
   ]
  },
  {
   "cell_type": "markdown",
   "id": "e67dd4ee",
   "metadata": {},
   "source": [
    "Train loop"
   ]
  },
  {
   "cell_type": "code",
   "execution_count": null,
   "id": "3899cd49",
   "metadata": {},
   "outputs": [],
   "source": [
    "# === Entrenamiento ===\n",
    "for epoch in range(EPOCHS):\n",
    "    total_loss = 0\n",
    "    for inputs, targets in dataloader:\n",
    "        inputs, targets = inputs.to(device), targets.to(device)\n",
    "        optimizer.zero_grad()\n",
    "        outputs = model(inputs)\n",
    "        log_probs = torch.log_softmax(outputs, dim=-1)\n",
    "        loss = nn.NLLLoss()(log_probs.view(-1, len(vocab)), targets.view(-1))\n",
    "        # loss = criterion(outputs, targets)\n",
    "        loss.backward()\n",
    "        optimizer.step()\n",
    "        total_loss += loss.item()\n",
    "\n",
    "    print(f\"Epoch {epoch + 1}/{EPOCHS} - Loss: {total_loss:.4f}\")"
   ]
  },
  {
   "cell_type": "code",
   "execution_count": null,
   "id": "1a531ace",
   "metadata": {},
   "outputs": [],
   "source": [
    "# === Guardar modelo  ===\n",
    "torch.save(model.state_dict(), \"chord_model.pth\")\n",
    "\n",
    "print(\"✅ Modelo entrenado y guardado correctamente.\")"
   ]
  },
  {
   "cell_type": "markdown",
   "id": "80f7ddf0",
   "metadata": {},
   "source": [
    "Test loop"
   ]
  },
  {
   "cell_type": "code",
   "execution_count": null,
   "id": "80d45b96",
   "metadata": {},
   "outputs": [],
   "source": [
    "import torch\n",
    "import torch.nn.functional as F\n",
    "\n",
    "def generate_progression(\n",
    "    model,\n",
    "    token2idx,\n",
    "    idx2token,\n",
    "    key=\"<C_MAJOR>\",\n",
    "    structure=[(\"Verse\", 4), (\"Verse\", 4), (\"Bridge\", 2), (\"Chorus\", 4)],\n",
    "    sequence_length=5,\n",
    "    temperature=1.0,\n",
    "    device=\"cuda\" if torch.cuda.is_available() else \"cpu\"\n",
    "):\n",
    "    model.eval()\n",
    "    progression = {}\n",
    "\n",
    "    # Semilla inicial\n",
    "    current_sequence = [key] * sequence_length\n",
    "\n",
    "    for section, length in structure:\n",
    "        chords = []\n",
    "        for _ in range(length):\n",
    "            input_idxs = [token2idx[chord] for chord in current_sequence[-sequence_length:]]\n",
    "            input_tensor = torch.tensor([input_idxs], dtype=torch.long).to(device)\n",
    "\n",
    "            with torch.no_grad():\n",
    "                output = model(input_tensor)  # [1, vocab_size]\n",
    "                logits = output[0] / temperature\n",
    "                probs = F.softmax(logits, dim=-1)\n",
    "                next_idx = torch.multinomial(probs, num_samples=1).item()\n",
    "\n",
    "            next_chord = idx2token[next_idx]\n",
    "            chords.append(next_chord)\n",
    "            current_sequence.append(next_chord)\n",
    "\n",
    "            progression[section] = chords\n",
    "\n",
    "    return progression"
   ]
  },
  {
   "cell_type": "markdown",
   "id": "e6a366ae",
   "metadata": {},
   "source": [
    "Generar cançó"
   ]
  },
  {
   "cell_type": "code",
   "execution_count": 30,
   "id": "67653a92",
   "metadata": {},
   "outputs": [
    {
     "name": "stdout",
     "output_type": "stream",
     "text": [
      "🎶 Progresión generada:\n",
      "Verse: ['D', 'G#', 'C', 'Minor c']\n",
      "Bridge: ['E', 'Bb']\n",
      "Chorus: ['Minor b', 'G', 'Minor d', 'G']\n"
     ]
    }
   ],
   "source": [
    "progression = generate_progression(\n",
    "    model,\n",
    "    token2idx,\n",
    "    idx2token,\n",
    "    key=\"<C_MAJOR>\",\n",
    "    structure=[(\"Verse\", 4), (\"Verse\", 4), (\"Bridge\", 2), (\"Chorus\", 4)],\n",
    "    temperature=1.0\n",
    ")\n",
    "\n",
    "print(\"🎶 Progresión generada:\")\n",
    "for section, chords in progression.items():\n",
    "    print(f\"{section}: {chords}\")\n"
   ]
  }
 ],
 "metadata": {
  "kernelspec": {
   "display_name": "ex-basics",
   "language": "python",
   "name": "python3"
  },
  "language_info": {
   "codemirror_mode": {
    "name": "ipython",
    "version": 3
   },
   "file_extension": ".py",
   "mimetype": "text/x-python",
   "name": "python",
   "nbconvert_exporter": "python",
   "pygments_lexer": "ipython3",
   "version": "3.12.7"
  }
 },
 "nbformat": 4,
 "nbformat_minor": 5
}
