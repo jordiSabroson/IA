{
 "cells": [
  {
   "cell_type": "code",
   "execution_count": null,
   "id": "2bca08da",
   "metadata": {},
   "outputs": [],
   "source": [
    "import json\n",
    "from collections import defaultdict\n",
    "\n",
    "# === Cargar JSON ===\n",
    "with open(\"data/simplified_chords.json\", \"r\") as f:\n",
    "    data = json.load(f)\n",
    "\n",
    "# === Configuración ===\n",
    "MAX_SEQ_LEN = 4  # Tamaño del contexto para predecir el siguiente acorde\n",
    "DEFAULT_TONALITY = \"<C_MAJOR>\"  # Puedes cambiarlo o inferirlo más adelante\n",
    "\n",
    "# === Construcción de datos para entrenamiento ===\n",
    "training_data = []\n",
    "\n",
    "for artist, songs in data.items():\n",
    "    for song, chords in songs.items():\n",
    "        # Normalizar acordes: mayúsculas, sin espacios\n",
    "        normalized_chords = [chord.strip().capitalize() for chord in chords if chord.strip()]\n",
    "        \n",
    "        # Saltar canciones muy cortas\n",
    "        if len(normalized_chords) <= MAX_SEQ_LEN:\n",
    "            continue\n",
    "\n",
    "        # Extraer pares (input_seq, target)\n",
    "        for i in range(MAX_SEQ_LEN, len(normalized_chords)):\n",
    "            input_seq = normalized_chords[i - MAX_SEQ_LEN:i]\n",
    "            target = normalized_chords[i]\n",
    "            input_with_tonality = [DEFAULT_TONALITY] + input_seq\n",
    "            training_data.append((input_with_tonality, target))\n",
    "\n",
    "# === Guardar datos procesados ===\n",
    "with open(\"data/processed_training_data.json\", \"w\") as f:\n",
    "    json.dump(training_data, f, indent=2)\n",
    "\n",
    "print(f\"✅ Generados {len(training_data)} pares secuencia → acorde.\")\n"
   ]
  },
  {
   "cell_type": "code",
   "execution_count": null,
   "id": "10c3cd35",
   "metadata": {},
   "outputs": [
    {
     "name": "stdout",
     "output_type": "stream",
     "text": [
      "✅ Modelo entrenado y guardado correctamente.\n"
     ]
    }
   ],
   "source": [
    "# chord_generator_model.py\n",
    "\n",
    "import torch\n",
    "import torch.nn as nn\n",
    "from torch.utils.data import Dataset, DataLoader\n",
    "import json\n",
    "from collections import defaultdict\n",
    "\n",
    "# === Hiperparámetros ===\n",
    "EMBEDDING_DIM = 64\n",
    "HIDDEN_DIM = 128\n",
    "BATCH_SIZE = 64\n",
    "EPOCHS = 10\n",
    "LEARNING_RATE = 1e-5\n",
    "\n",
    "# === Cargar datos procesados ===\n",
    "with open(\"data/processed_training_data.json\") as f:\n",
    "    raw_data = json.load(f)\n",
    "\n",
    "# === Crear vocabulario ===\n",
    "token_set = set()\n",
    "for seq, target in raw_data:\n",
    "    token_set.update(seq)\n",
    "    token_set.add(target)\n",
    "\n",
    "token2idx = {token: i for i, token in enumerate(sorted(token_set))}\n",
    "idx2token = {i: token for token, i in token2idx.items()}\n",
    "\n",
    "with open(\"chord_vocab.json\", \"w\") as f:\n",
    "    json.dump(token2idx, f)\n",
    "\n",
    "with open(\"data/chord_vocab.json\", \"r\") as f:\n",
    "    vocab = json.load(f)\n",
    "\n",
    "# === Dataset personalizado ===\n",
    "class ChordDataset(Dataset):\n",
    "    def __init__(self, data, token2idx):\n",
    "        self.data = data\n",
    "        self.token2idx = token2idx\n",
    "\n",
    "    def __len__(self):\n",
    "        return len(self.data)\n",
    "\n",
    "    def __getitem__(self, idx):\n",
    "        seq, target = self.data[idx]\n",
    "        seq_ids = [self.token2idx[token] for token in seq]\n",
    "        target_id = self.token2idx[target]\n",
    "        return torch.tensor(seq_ids), torch.tensor(target_id)\n",
    "\n",
    "# === Modelo secuencial ===\n",
    "class ChordLSTM(nn.Module):\n",
    "    def __init__(self, vocab_size, embedding_dim, hidden_dim):\n",
    "        super().__init__()\n",
    "        self.embedding = nn.Embedding(vocab_size, embedding_dim)\n",
    "        self.lstm = nn.LSTM(embedding_dim, hidden_dim, batch_first=True)\n",
    "        self.fc = nn.Linear(hidden_dim, vocab_size)\n",
    "\n",
    "    def forward(self, x):\n",
    "        embedded = self.embedding(x)\n",
    "        lstm_out, _ = self.lstm(embedded)\n",
    "        output = self.fc(lstm_out[:, -1, :])\n",
    "        return output\n",
    "\n",
    "# === Preparar DataLoader ===\n",
    "dataset = ChordDataset(raw_data, token2idx)\n",
    "dataloader = DataLoader(dataset, batch_size=BATCH_SIZE, shuffle=True)\n",
    "\n",
    "# === Entrenar en CUDA si está disponible ===\n",
    "device = torch.device(\"cuda\" if torch.cuda.is_available() else \"cpu\")\n",
    "model = ChordLSTM(len(token2idx), EMBEDDING_DIM, HIDDEN_DIM).to(device)\n",
    "optimizer = torch.optim.Adam(model.parameters(), lr=LEARNING_RATE)\n",
    "criterion = nn.CrossEntropyLoss()\n"
   ]
  },
  {
   "cell_type": "code",
   "execution_count": null,
   "id": "2a932267",
   "metadata": {},
   "outputs": [],
   "source": [
    "print(inputs.shape, inputs.dtype)   # Ej. torch.Size([64, 5]) torch.int64\n",
    "print(targets.shape, targets.dtype) # Ej. torch.Size([64])    torch.int64\n"
   ]
  },
  {
   "cell_type": "code",
   "execution_count": null,
   "id": "4dd3c564",
   "metadata": {},
   "outputs": [],
   "source": [
    "print(\"Vocab size:\", len(token2idx))\n",
    "print(\"Ejemplo entrada:\", raw_data[0])\n"
   ]
  },
  {
   "cell_type": "markdown",
   "id": "e67dd4ee",
   "metadata": {},
   "source": [
    "Train loop"
   ]
  },
  {
   "cell_type": "code",
   "execution_count": 10,
   "id": "3899cd49",
   "metadata": {},
   "outputs": [
    {
     "name": "stdout",
     "output_type": "stream",
     "text": [
      "Epoch 1/10 - Loss: 121163.6102\n",
      "Epoch 2/10 - Loss: 120427.4854\n",
      "Epoch 3/10 - Loss: 119960.6240\n",
      "Epoch 4/10 - Loss: 119632.3147\n",
      "Epoch 5/10 - Loss: 119379.8398\n",
      "Epoch 6/10 - Loss: 119174.3391\n",
      "Epoch 7/10 - Loss: 118999.2744\n"
     ]
    },
    {
     "ename": "KeyboardInterrupt",
     "evalue": "",
     "output_type": "error",
     "traceback": [
      "\u001b[0;31m---------------------------------------------------------------------------\u001b[0m",
      "\u001b[0;31mKeyboardInterrupt\u001b[0m                         Traceback (most recent call last)",
      "Cell \u001b[0;32mIn[10], line 14\u001b[0m\n\u001b[1;32m     12\u001b[0m loss \u001b[38;5;241m=\u001b[39m nn\u001b[38;5;241m.\u001b[39mNLLLoss()(log_probs\u001b[38;5;241m.\u001b[39mview(\u001b[38;5;241m-\u001b[39m\u001b[38;5;241m1\u001b[39m, \u001b[38;5;28mlen\u001b[39m(vocab)), targets\u001b[38;5;241m.\u001b[39mview(\u001b[38;5;241m-\u001b[39m\u001b[38;5;241m1\u001b[39m))\n\u001b[1;32m     13\u001b[0m \u001b[38;5;66;03m# loss = criterion(outputs, targets)\u001b[39;00m\n\u001b[0;32m---> 14\u001b[0m \u001b[43mloss\u001b[49m\u001b[38;5;241;43m.\u001b[39;49m\u001b[43mbackward\u001b[49m\u001b[43m(\u001b[49m\u001b[43m)\u001b[49m\n\u001b[1;32m     15\u001b[0m optimizer\u001b[38;5;241m.\u001b[39mstep()\n\u001b[1;32m     16\u001b[0m total_loss \u001b[38;5;241m+\u001b[39m\u001b[38;5;241m=\u001b[39m loss\u001b[38;5;241m.\u001b[39mitem()\n",
      "File \u001b[0;32m~/Escritorio/UA/ex-basics/lib/python3.12/site-packages/torch/_tensor.py:626\u001b[0m, in \u001b[0;36mTensor.backward\u001b[0;34m(self, gradient, retain_graph, create_graph, inputs)\u001b[0m\n\u001b[1;32m    616\u001b[0m \u001b[38;5;28;01mif\u001b[39;00m has_torch_function_unary(\u001b[38;5;28mself\u001b[39m):\n\u001b[1;32m    617\u001b[0m     \u001b[38;5;28;01mreturn\u001b[39;00m handle_torch_function(\n\u001b[1;32m    618\u001b[0m         Tensor\u001b[38;5;241m.\u001b[39mbackward,\n\u001b[1;32m    619\u001b[0m         (\u001b[38;5;28mself\u001b[39m,),\n\u001b[0;32m   (...)\u001b[0m\n\u001b[1;32m    624\u001b[0m         inputs\u001b[38;5;241m=\u001b[39minputs,\n\u001b[1;32m    625\u001b[0m     )\n\u001b[0;32m--> 626\u001b[0m \u001b[43mtorch\u001b[49m\u001b[38;5;241;43m.\u001b[39;49m\u001b[43mautograd\u001b[49m\u001b[38;5;241;43m.\u001b[39;49m\u001b[43mbackward\u001b[49m\u001b[43m(\u001b[49m\n\u001b[1;32m    627\u001b[0m \u001b[43m    \u001b[49m\u001b[38;5;28;43mself\u001b[39;49m\u001b[43m,\u001b[49m\u001b[43m \u001b[49m\u001b[43mgradient\u001b[49m\u001b[43m,\u001b[49m\u001b[43m \u001b[49m\u001b[43mretain_graph\u001b[49m\u001b[43m,\u001b[49m\u001b[43m \u001b[49m\u001b[43mcreate_graph\u001b[49m\u001b[43m,\u001b[49m\u001b[43m \u001b[49m\u001b[43minputs\u001b[49m\u001b[38;5;241;43m=\u001b[39;49m\u001b[43minputs\u001b[49m\n\u001b[1;32m    628\u001b[0m \u001b[43m\u001b[49m\u001b[43m)\u001b[49m\n",
      "File \u001b[0;32m~/Escritorio/UA/ex-basics/lib/python3.12/site-packages/torch/autograd/__init__.py:347\u001b[0m, in \u001b[0;36mbackward\u001b[0;34m(tensors, grad_tensors, retain_graph, create_graph, grad_variables, inputs)\u001b[0m\n\u001b[1;32m    342\u001b[0m     retain_graph \u001b[38;5;241m=\u001b[39m create_graph\n\u001b[1;32m    344\u001b[0m \u001b[38;5;66;03m# The reason we repeat the same comment below is that\u001b[39;00m\n\u001b[1;32m    345\u001b[0m \u001b[38;5;66;03m# some Python versions print out the first line of a multi-line function\u001b[39;00m\n\u001b[1;32m    346\u001b[0m \u001b[38;5;66;03m# calls in the traceback and some print out the last line\u001b[39;00m\n\u001b[0;32m--> 347\u001b[0m \u001b[43m_engine_run_backward\u001b[49m\u001b[43m(\u001b[49m\n\u001b[1;32m    348\u001b[0m \u001b[43m    \u001b[49m\u001b[43mtensors\u001b[49m\u001b[43m,\u001b[49m\n\u001b[1;32m    349\u001b[0m \u001b[43m    \u001b[49m\u001b[43mgrad_tensors_\u001b[49m\u001b[43m,\u001b[49m\n\u001b[1;32m    350\u001b[0m \u001b[43m    \u001b[49m\u001b[43mretain_graph\u001b[49m\u001b[43m,\u001b[49m\n\u001b[1;32m    351\u001b[0m \u001b[43m    \u001b[49m\u001b[43mcreate_graph\u001b[49m\u001b[43m,\u001b[49m\n\u001b[1;32m    352\u001b[0m \u001b[43m    \u001b[49m\u001b[43minputs\u001b[49m\u001b[43m,\u001b[49m\n\u001b[1;32m    353\u001b[0m \u001b[43m    \u001b[49m\u001b[43mallow_unreachable\u001b[49m\u001b[38;5;241;43m=\u001b[39;49m\u001b[38;5;28;43;01mTrue\u001b[39;49;00m\u001b[43m,\u001b[49m\n\u001b[1;32m    354\u001b[0m \u001b[43m    \u001b[49m\u001b[43maccumulate_grad\u001b[49m\u001b[38;5;241;43m=\u001b[39;49m\u001b[38;5;28;43;01mTrue\u001b[39;49;00m\u001b[43m,\u001b[49m\n\u001b[1;32m    355\u001b[0m \u001b[43m\u001b[49m\u001b[43m)\u001b[49m\n",
      "File \u001b[0;32m~/Escritorio/UA/ex-basics/lib/python3.12/site-packages/torch/autograd/graph.py:823\u001b[0m, in \u001b[0;36m_engine_run_backward\u001b[0;34m(t_outputs, *args, **kwargs)\u001b[0m\n\u001b[1;32m    821\u001b[0m     unregister_hooks \u001b[38;5;241m=\u001b[39m _register_logging_hooks_on_whole_graph(t_outputs)\n\u001b[1;32m    822\u001b[0m \u001b[38;5;28;01mtry\u001b[39;00m:\n\u001b[0;32m--> 823\u001b[0m     \u001b[38;5;28;01mreturn\u001b[39;00m \u001b[43mVariable\u001b[49m\u001b[38;5;241;43m.\u001b[39;49m\u001b[43m_execution_engine\u001b[49m\u001b[38;5;241;43m.\u001b[39;49m\u001b[43mrun_backward\u001b[49m\u001b[43m(\u001b[49m\u001b[43m  \u001b[49m\u001b[38;5;66;43;03m# Calls into the C++ engine to run the backward pass\u001b[39;49;00m\n\u001b[1;32m    824\u001b[0m \u001b[43m        \u001b[49m\u001b[43mt_outputs\u001b[49m\u001b[43m,\u001b[49m\u001b[43m \u001b[49m\u001b[38;5;241;43m*\u001b[39;49m\u001b[43margs\u001b[49m\u001b[43m,\u001b[49m\u001b[43m \u001b[49m\u001b[38;5;241;43m*\u001b[39;49m\u001b[38;5;241;43m*\u001b[39;49m\u001b[43mkwargs\u001b[49m\n\u001b[1;32m    825\u001b[0m \u001b[43m    \u001b[49m\u001b[43m)\u001b[49m  \u001b[38;5;66;03m# Calls into the C++ engine to run the backward pass\u001b[39;00m\n\u001b[1;32m    826\u001b[0m \u001b[38;5;28;01mfinally\u001b[39;00m:\n\u001b[1;32m    827\u001b[0m     \u001b[38;5;28;01mif\u001b[39;00m attach_logging_hooks:\n",
      "\u001b[0;31mKeyboardInterrupt\u001b[0m: "
     ]
    }
   ],
   "source": [
    "# === Entrenamiento ===\n",
    "for epoch in range(EPOCHS):\n",
    "    total_loss = 0\n",
    "    for inputs, targets in dataloader:\n",
    "        inputs, targets = inputs.to(device), targets.to(device)\n",
    "        optimizer.zero_grad()\n",
    "        outputs = model(inputs)\n",
    "        log_probs = torch.log_softmax(outputs, dim=-1)\n",
    "        loss = nn.NLLLoss()(log_probs.view(-1, len(vocab)), targets.view(-1))\n",
    "        # loss = criterion(outputs, targets)\n",
    "        loss.backward()\n",
    "        optimizer.step()\n",
    "        total_loss += loss.item()\n",
    "\n",
    "    print(f\"Epoch {epoch + 1}/{EPOCHS} - Loss: {total_loss:.4f}\")"
   ]
  },
  {
   "cell_type": "code",
   "execution_count": null,
   "id": "1a531ace",
   "metadata": {},
   "outputs": [],
   "source": [
    "# === Guardar modelo  ===\n",
    "torch.save(model.state_dict(), \"chord_model.pth\")\n",
    "\n",
    "print(\"✅ Modelo entrenado y guardado correctamente.\")"
   ]
  }
 ],
 "metadata": {
  "kernelspec": {
   "display_name": "ex-basics",
   "language": "python",
   "name": "python3"
  },
  "language_info": {
   "codemirror_mode": {
    "name": "ipython",
    "version": 3
   },
   "file_extension": ".py",
   "mimetype": "text/x-python",
   "name": "python",
   "nbconvert_exporter": "python",
   "pygments_lexer": "ipython3",
   "version": "3.12.7"
  }
 },
 "nbformat": 4,
 "nbformat_minor": 5
}
