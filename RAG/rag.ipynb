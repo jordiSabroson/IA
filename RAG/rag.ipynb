{
 "cells": [
  {
   "cell_type": "markdown",
   "metadata": {},
   "source": [
    "Treure text del fitxer"
   ]
  },
  {
   "cell_type": "code",
   "execution_count": null,
   "metadata": {},
   "outputs": [],
   "source": [
    "import torch\n",
    "\n",
    "with open('data/quijote.txt', 'r') as file:\n",
    "    text = file.read()\n",
    "print(text)"
   ]
  },
  {
   "cell_type": "markdown",
   "metadata": {},
   "source": [
    "Separar el text en chunks per a facilitar l'embedding"
   ]
  },
  {
   "cell_type": "code",
   "execution_count": null,
   "metadata": {},
   "outputs": [],
   "source": [
    "import tiktoken\n",
    "\n",
    "def split_text(text, chunk_size=400, overlap=50):\n",
    "    tokenizer = tiktoken.get_encoding(\"cl100k_base\")  # Usar el tokenizer adecuado para tu modelo\n",
    "    tokens = tokenizer.encode(text)\n",
    "    \n",
    "    chunks = []\n",
    "    for i in range(0, len(tokens), chunk_size - overlap):\n",
    "        chunk = tokens[i : i + chunk_size]\n",
    "        chunks.append(tokenizer.decode(chunk))\n",
    "    \n",
    "    return chunks\n",
    "\n",
    "chunks = split_text(text)\n"
   ]
  },
  {
   "cell_type": "code",
   "execution_count": null,
   "metadata": {},
   "outputs": [],
   "source": [
    "from sentence_transformers import SentenceTransformer\n",
    "\n",
    "device = 'cuda' if torch.cuda.is_available() else 'cpu'\n",
    "\n",
    "def create_embeddings(chunks):\n",
    "    model = SentenceTransformer('all-MiniLM-L6-v2')\n",
    "\n",
    "    model.to(device)\n",
    "\n",
    "    embeddings = model.encode(chunks, convert_to_tensor=True).to('cpu')\n",
    "    return embeddings\n",
    "\n",
    "embeddings = create_embeddings(chunks)"
   ]
  },
  {
   "cell_type": "code",
   "execution_count": null,
   "metadata": {},
   "outputs": [],
   "source": [
    "from pinecone import Pinecone, ServerlessSpec\n",
    "\n",
    "# Inicializa Pinecone\n",
    "pc = Pinecone(api_key=\"pcsk_3EQD3c_TSypvXiqmCEavKDM7voRpMHVzd9FXnyAAu8LVCerLNtA69tUziFNVfFDH77WDTs\")\n",
    "\n",
    "# Crea un índice si no existe\n",
    "index_name = \"quijote-index\"\n",
    "dimension = embeddings.shape[1]\n",
    "print(dimension)\n",
    "# if index_name not in pc.list_indexes():\n",
    "#     pc.create_index(index_name, dimension=dimension, spec=ServerlessSpec(cloud=\"aws\", region=\"us-east-1\"), metric=\"cosine\")"
   ]
  },
  {
   "cell_type": "code",
   "execution_count": null,
   "metadata": {},
   "outputs": [],
   "source": [
    "\n",
    "# Conecta al índice\n",
    "index = pc.Index(index_name)\n",
    "\n",
    "# def upload_to_pinecone(chunks, embeddings, batch_size=100):\n",
    "#     vectors = [(str(i), embedding.tolist(), {\"text\": chunk}) for i, (chunk, embedding) in enumerate(zip(chunks, embeddings))]\n",
    "#     for i in range(0, len(vectors), batch_size):\n",
    "#         batch = vectors[i:i+batch_size]\n",
    "#         index.upsert(vectors=batch)\n",
    "\n",
    "# upload_to_pinecone(chunks, embeddings)"
   ]
  },
  {
   "cell_type": "code",
   "execution_count": null,
   "metadata": {},
   "outputs": [],
   "source": [
    "def embed_query(query):\n",
    "    model = SentenceTransformer('all-MiniLM-L6-v2')\n",
    "    model.to(device)\n",
    "    embedded_query = model.encode(query, convert_to_tensor=True).to('cpu')\n",
    "    return embedded_query\n",
    "\n",
    "def query_index(embedded_query, index):\n",
    "    query_response = index.query(\n",
    "        vector=embedded_query, top_k=2, include_metadata=True\n",
    "    )\n",
    "    return query_response\n",
    "\n",
    "query = embed_query(\"Cómo se llama el ayudante de Don Quijote de la Mancha?\")\n"
   ]
  },
  {
   "cell_type": "code",
   "execution_count": null,
   "metadata": {},
   "outputs": [],
   "source": [
    "# Load model directly\n",
    "from transformers import AutoTokenizer, AutoModelForCausalLM\n",
    "\n",
    "tokenizer = AutoTokenizer.from_pretrained(\"projecte-aina/FlorRAG\")\n",
    "model = AutoModelForCausalLM.from_pretrained(\"projecte-aina/FlorRAG\")\n",
    "\n",
    "instruction = \"Cómo se llama el ayudante de Don Quijote de la Mancha?\"\n",
    "context = query_index(query.tolist(), index)\n",
    "\n",
    "def givePrediction(instruction, context):\n",
    "    question = f\"### Instruction\\n{{instruction}}\\n### Context\\n{{context}}\\n### Answer\\n\"\n",
    "    response = model(question, context)\n",
    "    answer = response.split(\"###\")[-1][8:-1]\n",
    "    return answer\n",
    "\n",
    "answer = givePrediction(instruction, context)\n",
    "\n",
    "print(answer)"
   ]
  },
  {
   "cell_type": "code",
   "execution_count": null,
   "metadata": {},
   "outputs": [],
   "source": [
    "id_answer = int(context[\"matches\"][0][\"id\"])\n",
    "print(chunks[id_answer])"
   ]
  }
 ],
 "metadata": {
  "kernelspec": {
   "display_name": "ex-basics",
   "language": "python",
   "name": "python3"
  },
  "language_info": {
   "codemirror_mode": {
    "name": "ipython",
    "version": 3
   },
   "file_extension": ".py",
   "mimetype": "text/x-python",
   "name": "python",
   "nbconvert_exporter": "python",
   "pygments_lexer": "ipython3",
   "version": "3.12.7"
  }
 },
 "nbformat": 4,
 "nbformat_minor": 2
}
