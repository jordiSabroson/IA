{
 "cells": [
  {
   "cell_type": "markdown",
   "metadata": {},
   "source": [
    "# Multiplicació de matrius"
   ]
  },
  {
   "cell_type": "code",
   "execution_count": 2,
   "metadata": {},
   "outputs": [],
   "source": [
    "import random"
   ]
  },
  {
   "cell_type": "code",
   "execution_count": 16,
   "metadata": {},
   "outputs": [
    {
     "name": "stdout",
     "output_type": "stream",
     "text": [
      "-3 0 8\n",
      "-7 -10 -8\n",
      "-2 0 -5 \n",
      "\n",
      " 5 3 8\n",
      "-2 7 -9\n",
      "5 10 10 \n",
      "\n",
      "25 71 56\n",
      "-55 -171 -46\n",
      "-35 -56 -66\n"
     ]
    }
   ],
   "source": [
    "class Matrix:\n",
    "    def __init__(self, rows, cols, data=None):\n",
    "        self.rows = rows\n",
    "        self.cols = cols\n",
    "        if data is None:\n",
    "            self.data = [[random.randint(-10, 10) for _ in range(rows)] for _ in range(cols)] \n",
    "        else:\n",
    "            self.data = data\n",
    "\n",
    "    def __getitem__(self, index):\n",
    "        return self.data[index]\n",
    "\n",
    "    def __mul__(self, other):\n",
    "\n",
    "        resultat = [[0 for _ in range(other.cols)] for _ in range(self.rows)]\n",
    "\n",
    "        for i in range(self.rows):\n",
    "            for j in range(other.cols):\n",
    "                for k in range(self.cols):\n",
    "                    resultat[i][j] += self.data[i][k] * other.data[k][j]\n",
    "\n",
    "        return Matrix(self.rows, other.cols, resultat)\n",
    "\n",
    "    def __str__(self):\n",
    "        return '\\n'.join([' '.join([str(item) for item in row]) for row in self.data])\n",
    "\n",
    "\n",
    "matriu = Matrix(3,3)\n",
    "m2 = Matrix(3,3)\n",
    "print(matriu, \"\\n\\n\", m2, \"\\n\")\n",
    "print(matriu * m2)"
   ]
  }
 ],
 "metadata": {
  "kernelspec": {
   "display_name": "ex-basics",
   "language": "python",
   "name": "python3"
  },
  "language_info": {
   "codemirror_mode": {
    "name": "ipython",
    "version": 3
   },
   "file_extension": ".py",
   "mimetype": "text/x-python",
   "name": "python",
   "nbconvert_exporter": "python",
   "pygments_lexer": "ipython3",
   "version": "3.12.7"
  }
 },
 "nbformat": 4,
 "nbformat_minor": 2
}
