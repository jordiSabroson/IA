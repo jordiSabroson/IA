{
 "cells": [
  {
   "cell_type": "markdown",
   "id": "8448f564-35e1-4400-8e1c-d99735ca6749",
   "metadata": {},
   "source": [
    "# Queens Problem\n",
    "\n",
    "### importem llibreries que utilitzarem i definim variables globals\n"
   ]
  },
  {
   "cell_type": "code",
   "execution_count": 10,
   "id": "7e71e39a-7d45-4d5c-a219-6ca99dec4cf1",
   "metadata": {},
   "outputs": [],
   "source": [
    "import numpy as np\n",
    "import random\n",
    "\n",
    "INITIAL_POPULATION = 10\n",
    "BOARD_SIZE = 8\n",
    "MUTATION_CHANCE = 0.1"
   ]
  },
  {
   "cell_type": "markdown",
   "id": "10fb9abc-bf8b-495f-acd2-7373b54171d2",
   "metadata": {},
   "source": [
    "### Definir Agent, població i display"
   ]
  },
  {
   "cell_type": "code",
   "execution_count": 11,
   "id": "4a5d0158-eda9-4551-b13c-568e09fdfcc4",
   "metadata": {},
   "outputs": [
    {
     "name": "stdout",
     "output_type": "stream",
     "text": [
      "[0, 0, 0, 0, 0, 0, 0, 0]\n",
      "[0, 0, 1, 0, 0, 0, 0, 0]\n",
      "[0, 0, 0, 0, 1, 0, 0, 0]\n",
      "[0, 0, 0, 0, 0, 0, 0, 1]\n",
      "[0, 0, 0, 0, 0, 0, 1, 0]\n",
      "[0, 0, 0, 1, 0, 0, 0, 0]\n",
      "[0, 1, 0, 0, 0, 0, 0, 0]\n",
      "[0, 0, 0, 0, 0, 1, 0, 0]\n"
     ]
    }
   ],
   "source": [
    "# Inicialitzar un gen amb una llista de números aleatoris de l'1 a la variable global BOARD_SIZE\n",
    "def init_agent(board_size):\n",
    "    agent = list(range(1, board_size + 1))\n",
    "    random.shuffle(agent)\n",
    "    return agent\n",
    "\n",
    "# Funció que imprimeix un array com si fós un tauler d'escacs amb les reines al seu lloc\n",
    "def display_agent(agent): \n",
    "    for queenPosition in agent:\n",
    "        result = []\n",
    "\n",
    "        for el in range(len(agent)):\n",
    "            result.append(1 if el == queenPosition else 0)\n",
    "\n",
    "        print(result)\n",
    "\n",
    "# Funció per inicialitzar un conjunt de gens (població) segons la variable BOARD_SIZE\n",
    "def init_population(initial_population, board_size):\n",
    "    pop = []\n",
    "    for _ in range(initial_population):\n",
    "        pop.append(init_agent(board_size))\n",
    "    return pop\n",
    "\n",
    "_population = init_population(INITIAL_POPULATION, BOARD_SIZE)\n",
    "_agent = _population[0]\n",
    "assert BOARD_SIZE == len(_agent)\n",
    "assert INITIAL_POPULATION == len(_population)\n",
    "display_agent(_agent)\n",
    "# assert BOARD_SIZE*BOARD_SIZE == len(display_agent(_agent))"
   ]
  },
  {
   "cell_type": "markdown",
   "id": "bea5aa31-863f-49b2-b04a-30c1cf3b6ed7",
   "metadata": {},
   "source": [
    "### definir crossover"
   ]
  },
  {
   "cell_type": "code",
   "execution_count": 12,
   "id": "2ced517d-25bd-48b9-9ca0-ef06c5a0634c",
   "metadata": {},
   "outputs": [
    {
     "data": {
      "text/plain": [
       "[[8, 2, 4, 7, 5, 6, 1, 3],\n",
       " [2, 5, 6, 1, 8, 4, 7, 3],\n",
       " [1, 6, 3, 4, 5, 7, 8, 2],\n",
       " [5, 7, 1, 4, 6, 3, 8, 2],\n",
       " [2, 3, 4, 7, 5, 1, 6, 8],\n",
       " [5, 2, 7, 1, 3, 4, 8, 6],\n",
       " [4, 6, 5, 8, 3, 7, 1, 2],\n",
       " [3, 7, 4, 1, 6, 5, 8, 2],\n",
       " [4, 1, 2, 8, 6, 5, 7, 3],\n",
       " [8, 2, 4, 6, 1, 5, 3, 7]]"
      ]
     },
     "execution_count": 12,
     "metadata": {},
     "output_type": "execute_result"
    }
   ],
   "source": [
    "# Funció que rep dos gens i els reprodueix a partir de la meitat del gen\n",
    "def crossover(parent1, parent2):\n",
    "    # Crosspoint a la meitat \n",
    "    midpoint = len(parent1) // 2\n",
    "    \n",
    "    # Agafem la primera meitat del gen i li afegim els números que faltin de l'altre gen de manera que no hi hagin repetits\n",
    "    child1 = parent1[:midpoint] + [gene for gene in parent2 if gene not in parent1[:midpoint]]\n",
    "    child2 = parent2[:midpoint] + [gene for gene in parent1 if gene not in parent2[:midpoint]]\n",
    "\n",
    "    return child1, child2\n",
    "\n",
    "# Funció que reprodueix una població agafan pares de dos en dos i creuant-los. Retorna una nova generació\n",
    "def crossover_population(population):\n",
    "    new_gen = []\n",
    "    for i in range(0, len(population), 2):\n",
    "        parent1 = population[i]\n",
    "        parent2 = population[i+1]\n",
    "        child1, child2 = crossover(parent1, parent2)\n",
    "        new_gen.append(child1)\n",
    "        new_gen.append(child2)\n",
    "    \n",
    "    return new_gen\n",
    "\n",
    "crossover_population(_population)\n"
   ]
  },
  {
   "cell_type": "markdown",
   "id": "35d86c53-bc6e-4241-98a7-2c45a4729c39",
   "metadata": {},
   "source": [
    "### definir mutació\n"
   ]
  },
  {
   "cell_type": "code",
   "execution_count": 13,
   "id": "aa4e906a-bc48-474f-9420-ad4e5f35cd95",
   "metadata": {},
   "outputs": [
    {
     "data": {
      "text/plain": [
       "[8, 2, 4, 7, 6, 3, 1, 5]"
      ]
     },
     "execution_count": 13,
     "metadata": {},
     "output_type": "execute_result"
    }
   ],
   "source": [
    "def mutation(agent):\n",
    "    # Seleccionar dos posicions aleatòries del gen\n",
    "    pos1, pos2 = random.sample(range(len(agent)), 2)\n",
    "\n",
    "    # Intercanviar els elements en les posicions seleccionades\n",
    "    agent[pos1], agent[pos2] = agent[pos2], agent[pos1]\n",
    "\n",
    "    return agent\n",
    "\n",
    "\n",
    "def mutation_with_chance(agent, mutation_chance):\n",
    "\n",
    "    # Generar un número aleatori per veure si mutem\n",
    "    if random.random() < mutation_chance:\n",
    "        return mutation(agent)\n",
    "    return agent\n",
    "\n",
    "mutation_with_chance(_agent, MUTATION_CHANCE)"
   ]
  },
  {
   "cell_type": "markdown",
   "id": "1eb0be7a-7aa3-42f2-83f9-b724cd88ec75",
   "metadata": {},
   "source": [
    "### definir crossover de tota la població amb mutació"
   ]
  },
  {
   "cell_type": "code",
   "execution_count": 14,
   "id": "36de1291-096a-4204-ae97-802a8574d4a1",
   "metadata": {},
   "outputs": [
    {
     "data": {
      "text/plain": [
       "[[8, 2, 4, 7, 5, 6, 1, 3],\n",
       " [2, 5, 6, 1, 8, 4, 7, 3],\n",
       " [1, 6, 3, 4, 5, 7, 8, 2],\n",
       " [5, 7, 1, 4, 6, 3, 8, 2],\n",
       " [2, 3, 4, 7, 5, 1, 6, 8],\n",
       " [5, 2, 7, 1, 3, 4, 8, 6],\n",
       " [4, 6, 5, 8, 3, 7, 1, 2],\n",
       " [3, 7, 4, 1, 6, 5, 8, 2],\n",
       " [4, 1, 2, 8, 6, 5, 7, 3],\n",
       " [8, 2, 4, 6, 1, 5, 3, 7]]"
      ]
     },
     "execution_count": 14,
     "metadata": {},
     "output_type": "execute_result"
    }
   ],
   "source": [
    "# Funció que reprodueix una població i aplica la mutació als seus fills\n",
    "def replicate(population, mutation_chance):\n",
    "\n",
    "    # Nova població\n",
    "    new_population = crossover_population(population)\n",
    "\n",
    "    mutated_population = []\n",
    "    population_len = len(new_population)\n",
    "\n",
    "    for i in range(population_len):\n",
    "        # Agafem cada gen de la població i li apliquem la mutació segons el percentatge\n",
    "        mutated_agent = mutation_with_chance(new_population[i], mutation_chance)\n",
    "        mutated_population.append(mutated_agent)\n",
    "    \n",
    "    return mutated_population\n",
    "\n",
    "replicate(_population, MUTATION_CHANCE)"
   ]
  },
  {
   "cell_type": "markdown",
   "id": "616dbe98-22ac-4a89-8f75-00ba12c44a5d",
   "metadata": {},
   "source": [
    "### definir fitness function\n",
    "\n",
    "mirar diagonals i treure repetides"
   ]
  },
  {
   "cell_type": "code",
   "execution_count": 15,
   "id": "66163304-e8d5-4c87-ae68-e3c62505f93b",
   "metadata": {},
   "outputs": [
    {
     "name": "stdout",
     "output_type": "stream",
     "text": [
      "Fitness del gen:  4\n",
      "Fitness de la població:  [4, 2, 10, 3, 5, 3, 11, 1, 4, 3]\n"
     ]
    }
   ],
   "source": [
    "# Funció que comprova si hi ha colisions diagonals entre reines\n",
    "def fitness_agent(agent):\n",
    "    colisions = 0\n",
    "\n",
    "    # Eix Y de la primera reina\n",
    "    yq1 = 0\n",
    "\n",
    "    for xq1 in agent:\n",
    "        yq2 = 0\n",
    "        for xq2 in agent:\n",
    "            x = xq2 - xq1\n",
    "            y = yq2 - yq1\n",
    "\n",
    "            # Al ser una diagonal, si la X té el mateix valor que la Y, vol dir que colisionen\n",
    "            if abs(x) == abs(y):\n",
    "                colisions +=1\n",
    "            yq2 += 1\n",
    "        yq1 += 1\n",
    "    return int((colisions - len(agent))/2)\n",
    "            \n",
    "\n",
    "def fitness_population(population):\n",
    "    fit = []\n",
    "    for agent in population:\n",
    "        fit.append(fitness_agent(agent))\n",
    "\n",
    "    return fit\n",
    "\n",
    "print(\"Fitness del gen: \", fitness_agent(_agent))\n",
    "\n",
    "print(\"Fitness de la població: \", fitness_population(_population))"
   ]
  },
  {
   "cell_type": "markdown",
   "id": "56c5cdb9-8643-4977-ae24-ad7d0803b5ee",
   "metadata": {},
   "source": [
    "### Population Selection (by score)\n"
   ]
  },
  {
   "cell_type": "code",
   "execution_count": 16,
   "id": "7546660e-f015-4d28-afc2-d0b8f18ec13b",
   "metadata": {},
   "outputs": [],
   "source": [
    "def sort_population(population, fitness_list):\n",
    "    llista = list(zip(population, fitness_list))\n",
    "    llista_sorted = sorted(llista, key=lambda x: x[1], reverse=False)\n",
    "    return [x[0] for x in llista_sorted]\n",
    "\n",
    "def select_population(population, fitness_score, population_size):\n",
    "    sorted_population = sort_population(population, fitness_score)\n",
    "    return sorted_population[:population_size]\n"
   ]
  },
  {
   "cell_type": "markdown",
   "id": "625d470e-2ff7-4b13-aa11-2b2d7bf6ad03",
   "metadata": {},
   "source": [
    "### definir main\n",
    "\n",
    "(seguir els pasos de classe)"
   ]
  },
  {
   "cell_type": "code",
   "execution_count": 17,
   "id": "8923523c-03a6-4390-9892-8823c4368754",
   "metadata": {},
   "outputs": [],
   "source": [
    "def main(population_size, board_size, mutation_chance):\n",
    "    population = init_population(population_size, board_size)\n",
    "    generation = 0\n",
    "\n",
    "    while True:\n",
    "        fitness_list = fitness_population(population)\n",
    "        best_fitness = min(fitness_list)\n",
    "        best_gen = population[fitness_list.index(best_fitness)]\n",
    "\n",
    "        if generation % 100 == 0:\n",
    "            print(f\"Generation {generation}: \", best_fitness)\n",
    "\n",
    "        if best_fitness == 0:\n",
    "            print(f\"Solució trobada a la generació {generation}: \", best_gen)\n",
    "            break\n",
    "\n",
    "\n",
    "        # replicate\n",
    "        new_population = replicate(population, mutation_chance)\n",
    "        # fitness\n",
    "        new_fitness_list = fitness_population(new_population)\n",
    "\n",
    "        combined_population = population + new_population\n",
    "        combined_fitness_list = fitness_list + new_fitness_list\n",
    "\n",
    "        # sort + select\n",
    "        selected_population = select_population(combined_population, combined_fitness_list, population_size)\n",
    "\n",
    "        # new gen\n",
    "        population = selected_population\n",
    "        generation += 1\n",
    "\n",
    "    return best_gen"
   ]
  },
  {
   "cell_type": "markdown",
   "id": "59e2b56a-9ff9-44cb-a484-146b76ffaf1f",
   "metadata": {},
   "source": [
    "### Provar el codi"
   ]
  },
  {
   "cell_type": "code",
   "execution_count": 18,
   "id": "5a89a6d1-22ff-43f4-ae92-6cbf19746e73",
   "metadata": {},
   "outputs": [
    {
     "name": "stdout",
     "output_type": "stream",
     "text": [
      "Generation 0:  10\n",
      "Solució trobada a la generació 71:  [21, 26, 18, 12, 7, 20, 13, 25, 2, 19, 16, 1, 29, 5, 3, 8, 24, 30, 15, 10, 4, 9, 17, 22, 28, 11, 27, 23, 6, 14]\n",
      "[0, 0, 0, 0, 0, 0, 0, 0, 0, 0, 0, 0, 0, 0, 0, 0, 0, 0, 0, 0, 0, 1, 0, 0, 0, 0, 0, 0, 0, 0]\n",
      "[0, 0, 0, 0, 0, 0, 0, 0, 0, 0, 0, 0, 0, 0, 0, 0, 0, 0, 0, 0, 0, 0, 0, 0, 0, 0, 1, 0, 0, 0]\n",
      "[0, 0, 0, 0, 0, 0, 0, 0, 0, 0, 0, 0, 0, 0, 0, 0, 0, 0, 1, 0, 0, 0, 0, 0, 0, 0, 0, 0, 0, 0]\n",
      "[0, 0, 0, 0, 0, 0, 0, 0, 0, 0, 0, 0, 1, 0, 0, 0, 0, 0, 0, 0, 0, 0, 0, 0, 0, 0, 0, 0, 0, 0]\n",
      "[0, 0, 0, 0, 0, 0, 0, 1, 0, 0, 0, 0, 0, 0, 0, 0, 0, 0, 0, 0, 0, 0, 0, 0, 0, 0, 0, 0, 0, 0]\n",
      "[0, 0, 0, 0, 0, 0, 0, 0, 0, 0, 0, 0, 0, 0, 0, 0, 0, 0, 0, 0, 1, 0, 0, 0, 0, 0, 0, 0, 0, 0]\n",
      "[0, 0, 0, 0, 0, 0, 0, 0, 0, 0, 0, 0, 0, 1, 0, 0, 0, 0, 0, 0, 0, 0, 0, 0, 0, 0, 0, 0, 0, 0]\n",
      "[0, 0, 0, 0, 0, 0, 0, 0, 0, 0, 0, 0, 0, 0, 0, 0, 0, 0, 0, 0, 0, 0, 0, 0, 0, 1, 0, 0, 0, 0]\n",
      "[0, 0, 1, 0, 0, 0, 0, 0, 0, 0, 0, 0, 0, 0, 0, 0, 0, 0, 0, 0, 0, 0, 0, 0, 0, 0, 0, 0, 0, 0]\n",
      "[0, 0, 0, 0, 0, 0, 0, 0, 0, 0, 0, 0, 0, 0, 0, 0, 0, 0, 0, 1, 0, 0, 0, 0, 0, 0, 0, 0, 0, 0]\n",
      "[0, 0, 0, 0, 0, 0, 0, 0, 0, 0, 0, 0, 0, 0, 0, 0, 1, 0, 0, 0, 0, 0, 0, 0, 0, 0, 0, 0, 0, 0]\n",
      "[0, 1, 0, 0, 0, 0, 0, 0, 0, 0, 0, 0, 0, 0, 0, 0, 0, 0, 0, 0, 0, 0, 0, 0, 0, 0, 0, 0, 0, 0]\n",
      "[0, 0, 0, 0, 0, 0, 0, 0, 0, 0, 0, 0, 0, 0, 0, 0, 0, 0, 0, 0, 0, 0, 0, 0, 0, 0, 0, 0, 0, 1]\n",
      "[0, 0, 0, 0, 0, 1, 0, 0, 0, 0, 0, 0, 0, 0, 0, 0, 0, 0, 0, 0, 0, 0, 0, 0, 0, 0, 0, 0, 0, 0]\n",
      "[0, 0, 0, 1, 0, 0, 0, 0, 0, 0, 0, 0, 0, 0, 0, 0, 0, 0, 0, 0, 0, 0, 0, 0, 0, 0, 0, 0, 0, 0]\n",
      "[0, 0, 0, 0, 0, 0, 0, 0, 1, 0, 0, 0, 0, 0, 0, 0, 0, 0, 0, 0, 0, 0, 0, 0, 0, 0, 0, 0, 0, 0]\n",
      "[0, 0, 0, 0, 0, 0, 0, 0, 0, 0, 0, 0, 0, 0, 0, 0, 0, 0, 0, 0, 0, 0, 0, 0, 1, 0, 0, 0, 0, 0]\n",
      "[0, 0, 0, 0, 0, 0, 0, 0, 0, 0, 0, 0, 0, 0, 0, 0, 0, 0, 0, 0, 0, 0, 0, 0, 0, 0, 0, 0, 0, 0]\n",
      "[0, 0, 0, 0, 0, 0, 0, 0, 0, 0, 0, 0, 0, 0, 0, 1, 0, 0, 0, 0, 0, 0, 0, 0, 0, 0, 0, 0, 0, 0]\n",
      "[0, 0, 0, 0, 0, 0, 0, 0, 0, 0, 1, 0, 0, 0, 0, 0, 0, 0, 0, 0, 0, 0, 0, 0, 0, 0, 0, 0, 0, 0]\n",
      "[0, 0, 0, 0, 1, 0, 0, 0, 0, 0, 0, 0, 0, 0, 0, 0, 0, 0, 0, 0, 0, 0, 0, 0, 0, 0, 0, 0, 0, 0]\n",
      "[0, 0, 0, 0, 0, 0, 0, 0, 0, 1, 0, 0, 0, 0, 0, 0, 0, 0, 0, 0, 0, 0, 0, 0, 0, 0, 0, 0, 0, 0]\n",
      "[0, 0, 0, 0, 0, 0, 0, 0, 0, 0, 0, 0, 0, 0, 0, 0, 0, 1, 0, 0, 0, 0, 0, 0, 0, 0, 0, 0, 0, 0]\n",
      "[0, 0, 0, 0, 0, 0, 0, 0, 0, 0, 0, 0, 0, 0, 0, 0, 0, 0, 0, 0, 0, 0, 1, 0, 0, 0, 0, 0, 0, 0]\n",
      "[0, 0, 0, 0, 0, 0, 0, 0, 0, 0, 0, 0, 0, 0, 0, 0, 0, 0, 0, 0, 0, 0, 0, 0, 0, 0, 0, 0, 1, 0]\n",
      "[0, 0, 0, 0, 0, 0, 0, 0, 0, 0, 0, 1, 0, 0, 0, 0, 0, 0, 0, 0, 0, 0, 0, 0, 0, 0, 0, 0, 0, 0]\n",
      "[0, 0, 0, 0, 0, 0, 0, 0, 0, 0, 0, 0, 0, 0, 0, 0, 0, 0, 0, 0, 0, 0, 0, 0, 0, 0, 0, 1, 0, 0]\n",
      "[0, 0, 0, 0, 0, 0, 0, 0, 0, 0, 0, 0, 0, 0, 0, 0, 0, 0, 0, 0, 0, 0, 0, 1, 0, 0, 0, 0, 0, 0]\n",
      "[0, 0, 0, 0, 0, 0, 1, 0, 0, 0, 0, 0, 0, 0, 0, 0, 0, 0, 0, 0, 0, 0, 0, 0, 0, 0, 0, 0, 0, 0]\n",
      "[0, 0, 0, 0, 0, 0, 0, 0, 0, 0, 0, 0, 0, 0, 1, 0, 0, 0, 0, 0, 0, 0, 0, 0, 0, 0, 0, 0, 0, 0]\n"
     ]
    }
   ],
   "source": [
    "POPULATION_SIZE = 100\n",
    "BOARD_SIZE = 30\n",
    "MUTATION_CHANCE = 0.2\n",
    "\n",
    "agent = main(POPULATION_SIZE, BOARD_SIZE, MUTATION_CHANCE)\n",
    "display_agent(agent)"
   ]
  }
 ],
 "metadata": {
  "kernelspec": {
   "display_name": "Python 3 (ipykernel)",
   "language": "python",
   "name": "python3"
  },
  "language_info": {
   "codemirror_mode": {
    "name": "ipython",
    "version": 3
   },
   "file_extension": ".py",
   "mimetype": "text/x-python",
   "name": "python",
   "nbconvert_exporter": "python",
   "pygments_lexer": "ipython3",
   "version": "3.12.6"
  }
 },
 "nbformat": 4,
 "nbformat_minor": 5
}
