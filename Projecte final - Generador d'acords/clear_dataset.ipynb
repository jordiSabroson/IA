{
 "cells": [
  {
   "cell_type": "markdown",
   "id": "2d7ec6e2",
   "metadata": {},
   "source": [
    "## Netejar dataset"
   ]
  },
  {
   "cell_type": "code",
   "execution_count": null,
   "id": "d832ee8a",
   "metadata": {},
   "outputs": [],
   "source": [
    "import re\n",
    "import torch\n",
    "import pandas as pd"
   ]
  },
  {
   "cell_type": "code",
   "execution_count": null,
   "id": "9e834b48",
   "metadata": {},
   "outputs": [],
   "source": [
    "df = pd.read_csv('data/chordomicon_clean.csv')\n",
    "# Configuració\n",
    "device = torch.device(\"cuda\" if torch.cuda.is_available() else \"cpu\")\n",
    "torch.manual_seed(42)"
   ]
  },
  {
   "cell_type": "markdown",
   "id": "a16ce68d",
   "metadata": {},
   "source": [
    "Eliminar files que tenen la columna \"main_genre\" buida"
   ]
  },
  {
   "cell_type": "code",
   "execution_count": null,
   "id": "a7e006e4",
   "metadata": {},
   "outputs": [],
   "source": [
    "# Contar valors buits (NaN) en la columna 'main_genre'\n",
    "print(\"Files amb 'main_genre' buit abans de netejar:\", df['main_genre'].isna().sum())\n",
    "\n",
    "df_clean = df.dropna(subset=['main_genre'])\n",
    "print(\"Files després de netejar:\", len(df_clean))\n",
    "print(\"Files amb 'main_genre' després:\", df_clean['main_genre'].isna().sum())\n",
    "\n",
    "drop_columns = [\"id\", \"s_artist\", \"release_date\", \"genres\", \"decade\", \"rock_genre\", \"parts\"]\n",
    "\n",
    "df_clean = df_clean.drop(columns=drop_columns, axis=1)\n",
    "print(\"Columnes finals:\", df_clean.columns.tolist())\n"
   ]
  },
  {
   "cell_type": "markdown",
   "id": "b32aaa3d",
   "metadata": {},
   "source": [
    "Normalitzar els acords"
   ]
  },
  {
   "cell_type": "code",
   "execution_count": null,
   "id": "f6bdfdb9",
   "metadata": {},
   "outputs": [],
   "source": [
    "# Mapeig d'enarmònics per normalitzar\n",
    "enharmonic_map = {\n",
    "    'Cb': 'B', 'Db': 'C#', 'Eb': 'D#', 'Fb': 'E', 'Gb': 'F#', 'Ab': 'G#', 'Bb': 'A#',\n",
    "    'E#': 'F', 'B#': 'C'\n",
    "}\n",
    "\n",
    "# Funció per simplificar i normalitzar un acord\n",
    "def simplify_chord(chord):\n",
    "    if chord.startswith('<') and chord.endswith('>'):\n",
    "        # Elimina el número del tag: <verse_1> → <verse>\n",
    "        return re.sub(r'_\\d+', '', chord)\n",
    "\n",
    "    # Coincideix acords com Cm, C, Cmaj7, etc.\n",
    "    match = re.match(r'^([A-G][b#]?)(m)?', chord)\n",
    "    if not match:\n",
    "        return chord  # Retorna el valor tal qual si no coincideix\n",
    "\n",
    "    root, minor = match.groups()\n",
    "    root = enharmonic_map.get(root, root)  # Normalitza enarmònics\n",
    "\n",
    "    return root + ('m' if minor else '') # Si l'acord és menor, afegeix 'm', sinó retorna només la nota\n",
    "\n",
    "\n",
    "# Aplica la normalització i simplificació\n",
    "df_clean['chords'] = df_clean['chords'].apply(\n",
    "    lambda seq: ' '.join([simplify_chord(ch) for ch in seq.split()])\n",
    ")"
   ]
  },
  {
   "cell_type": "code",
   "execution_count": null,
   "id": "125f4ea2",
   "metadata": {},
   "outputs": [],
   "source": [
    "# Verificar resultats\n",
    "print(\"\\nExemple d'acords normalitzats:\")\n",
    "print(df_clean['chords'].head())"
   ]
  },
  {
   "cell_type": "markdown",
   "id": "6cc1eefe",
   "metadata": {},
   "source": [
    "Guardar dataset"
   ]
  },
  {
   "cell_type": "code",
   "execution_count": null,
   "id": "5249909d",
   "metadata": {},
   "outputs": [],
   "source": [
    "df.to_csv('data/chordomicon_clean.csv', index=False)"
   ]
  },
  {
   "cell_type": "markdown",
   "id": "d1507898",
   "metadata": {},
   "source": [
    "Resum de gèneres musicals del dataset"
   ]
  },
  {
   "cell_type": "code",
   "execution_count": null,
   "id": "f010cc76",
   "metadata": {},
   "outputs": [],
   "source": [
    "genre_counts = df['main_genre'].value_counts()\n",
    "\n",
    "print(\"Gèneres totals:\\n\", genre_counts)"
   ]
  }
 ],
 "metadata": {
  "kernelspec": {
   "display_name": "ex-basics",
   "language": "python",
   "name": "python3"
  },
  "language_info": {
   "codemirror_mode": {
    "name": "ipython",
    "version": 3
   },
   "file_extension": ".py",
   "mimetype": "text/x-python",
   "name": "python",
   "nbconvert_exporter": "python",
   "pygments_lexer": "ipython3",
   "version": "3.12.7"
  }
 },
 "nbformat": 4,
 "nbformat_minor": 5
}
