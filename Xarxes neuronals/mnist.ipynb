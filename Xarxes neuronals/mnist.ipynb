{
 "cells": [
  {
   "cell_type": "code",
   "execution_count": 1,
   "metadata": {},
   "outputs": [],
   "source": [
    "import numpy as np"
   ]
  },
  {
   "cell_type": "code",
   "execution_count": null,
   "metadata": {},
   "outputs": [],
   "source": [
    "def one_hot(Y):\n",
    "    one_hot_Y = np.zeros((Y.size, Y.max() + 1))\n",
    "    one_hot_Y [np.arange(Y.size), Y] = 1\n",
    "    return one_hot_Y.T\n",
    "\n",
    "def backward_prop(N1, Z1, N2, Z2, W1, W2, X, Y):\n",
    "    m = Z2.shape[1]\n",
    "    one_hot_Y = one_hot(Y)\n",
    "    dN2 = 2 * (Z2 - one_hot_Y)\n",
    "    dW2 = dN2.dot(Z1.T)/m\n",
    "    dB2 = np.sum(dN2,1)/m\n",
    "    dN1 = W2.T.dot(N2) * de_Relu(N1)\n",
    "    dW1 = dN1.dot(X.T)/m\n",
    "    dB1 = np.sum(dN1,1)/m\n",
    "\n",
    "    return dW1, dB1, dW2, dB2\n",
    "\n",
    "def accuracy(predict, expected):\n",
    "    return np.sum(predict == expected) / expected.size"
   ]
  }
 ],
 "metadata": {
  "kernelspec": {
   "display_name": "ex-basics",
   "language": "python",
   "name": "python3"
  },
  "language_info": {
   "codemirror_mode": {
    "name": "ipython",
    "version": 3
   },
   "file_extension": ".py",
   "mimetype": "text/x-python",
   "name": "python",
   "nbconvert_exporter": "python",
   "pygments_lexer": "ipython3",
   "version": "3.12.7"
  }
 },
 "nbformat": 4,
 "nbformat_minor": 2
}
