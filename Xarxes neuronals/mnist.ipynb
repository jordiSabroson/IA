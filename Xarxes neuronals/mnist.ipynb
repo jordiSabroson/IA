{
 "cells": [
  {
   "cell_type": "code",
   "execution_count": 84,
   "metadata": {},
   "outputs": [],
   "source": [
    "import numpy as np"
   ]
  },
  {
   "cell_type": "markdown",
   "metadata": {},
   "source": [
    "## Importar dataset"
   ]
  },
  {
   "cell_type": "code",
   "execution_count": 85,
   "metadata": {},
   "outputs": [],
   "source": [
    "def carregar_imatges(ruta):\n",
    "    with open(ruta, 'rb') as f:\n",
    "        dades = np.frombuffer(f.read(), dtype=np.uint8, offset=16)\n",
    "    return dades.reshape(-1, 28, 28)\n",
    "\n",
    "def carregar_etiquetes(ruta):\n",
    "    with open(ruta, 'rb') as f:\n",
    "        dades = np.frombuffer(f.read(), dtype=np.uint8, offset=8)\n",
    "    return dades\n",
    "\n",
    "X_train = carregar_imatges(\"train-images.idx3-ubyte\")\n",
    "y_train = carregar_etiquetes(\"train-labels.idx1-ubyte\")\n",
    "X_test = carregar_imatges(\"t10k-images.idx3-ubyte\")\n",
    "y_test = carregar_etiquetes(\"t10k-labels.idx1-ubyte\")\n",
    "\n",
    "X_train = np.array(X_train)\n",
    "y_train = np.array(y_train)\n",
    "X_test = np.array(X_test)\n",
    "y_test = np.array(y_test)\n"
   ]
  },
  {
   "cell_type": "markdown",
   "metadata": {},
   "source": [
    "### Mostrar imatges del dataset"
   ]
  },
  {
   "cell_type": "code",
   "execution_count": 86,
   "metadata": {},
   "outputs": [],
   "source": [
    "# import matplotlib.pyplot as plt\n",
    "\n",
    "# # Mostrar las primeras 5 imágenes de entrenamiento\n",
    "# for i in range(5):\n",
    "#     plt.imshow(X_train[i], cmap='gray')\n",
    "#     plt.title(f\"Etiqueta: {y_train[i]}\")\n",
    "#     plt.show()"
   ]
  },
  {
   "cell_type": "code",
   "execution_count": 87,
   "metadata": {},
   "outputs": [],
   "source": [
    "def one_hot(Y):\n",
    "    one_hot_Y = np.zeros((Y.size, Y.max() + 1))\n",
    "    one_hot_Y[np.arange(Y.size), Y] = 1\n",
    "    return one_hot_Y\n",
    "\n",
    "# def backward_prop(N1, Z1, N2, Z2, W1, W2, X, Y):\n",
    "#     m = Z2.shape[1]\n",
    "#     one_hot_Y = one_hot(Y)\n",
    "#     dN2 = 2 * (Z2 - one_hot_Y)\n",
    "#     dW2 = dN2.dot(Z1.T)/m\n",
    "#     dB2 = np.sum(dN2,1)/m\n",
    "#     dN1 = W2.T.dot(N2) * de_Relu(N1)\n",
    "#     dW1 = dN1.dot(X.T)/m\n",
    "#     dB1 = np.sum(dN1,1)/m\n",
    "\n",
    "#     return dW1, dB1, dW2, dB2\n",
    "\n",
    "def accuracy(predict, expected):\n",
    "    return np.sum(predict == expected) / expected.size\n",
    "\n",
    "    \n",
    "class linear_layer():\n",
    "    def __init__(self, input_dimensions, output_dimensions):\n",
    "        self.W = 2 * np.random.rand(input_dimensions, output_dimensions) - 1\n",
    "        self.B = np.random.rand(1, output_dimensions)\n",
    "\n",
    "    def forward(self, x):\n",
    "        self.x = x\n",
    "        return x @ self.W + self.B\n",
    "    \n",
    "    def backward(self, error):\n",
    "        self.dW = self.x.T @ error\n",
    "        self.dB = error.sum(axis = 0, keepdims=True)\n",
    "        return error @ self.W.T\n",
    "\n",
    "    def update_parameters(self, lr):\n",
    "        self.W -= lr * self.dW\n",
    "        self.B -= lr * self.dB\n"
   ]
  },
  {
   "cell_type": "markdown",
   "metadata": {},
   "source": [
    "## Definir capes d'activació i input"
   ]
  },
  {
   "cell_type": "code",
   "execution_count": 88,
   "metadata": {},
   "outputs": [],
   "source": [
    "class Relu_layer():\n",
    "    def __init__(self):\n",
    "        pass\n",
    "\n",
    "    def forward(self, x):\n",
    "        self.Z = np.maximum(0, x)\n",
    "        return self.Z\n",
    "    \n",
    "    def backward(self, error):\n",
    "        return error * (self.Z > 0)\n",
    "    \n",
    "    def update_parameters(self, ir):\n",
    "        pass\n",
    "\n",
    "class input_layer():\n",
    "    def __init__(self, input_size):\n",
    "        self.input_size = input_size\n",
    "\n",
    "    def forward(self, x):\n",
    "        return x\n",
    "    \n",
    "    def backward(self, error):\n",
    "        return error\n",
    "    \n",
    "    def update_parameters(self, ir):\n",
    "        pass"
   ]
  },
  {
   "cell_type": "markdown",
   "metadata": {},
   "source": [
    "## Model de xarxa neuronal"
   ]
  },
  {
   "cell_type": "code",
   "execution_count": 89,
   "metadata": {},
   "outputs": [],
   "source": [
    "class NN_model():\n",
    "    def __init__(self):\n",
    "        self.sequential = [input_layer(784),\n",
    "                           linear_layer(784,128),\n",
    "                           Relu_layer(),\n",
    "                           linear_layer(128,10)]\n",
    "    \n",
    "    def forward(self, x):\n",
    "        for layer in self.sequential:\n",
    "            y = layer.forward(x)\n",
    "            x = y\n",
    "        return y\n",
    "    \n",
    "    def backward(self, error):\n",
    "        for layer in reversed(self.sequential):\n",
    "            error = layer.backward(error)\n",
    "        return error\n",
    "    \n",
    "    def update_parameters(self, learning_rate=0.03):\n",
    "        for layer in self.sequential:\n",
    "            layer.update_parameters(learning_rate)\n",
    "    \n",
    "model = NN_model()\n",
    "\n",
    "# y_pred = model.forward(np.array([[1, -10, 1, -8]]))\n",
    "# print(y_pred)\n",
    "# y_real = np.array([1,0])\n",
    "# error = 2 * np.abs(y_pred - y_real)\n",
    "# model.backward(error)"
   ]
  },
  {
   "cell_type": "markdown",
   "metadata": {},
   "source": [
    "## Train test loops"
   ]
  },
  {
   "cell_type": "code",
   "execution_count": 90,
   "metadata": {},
   "outputs": [],
   "source": [
    "def train(model, x_train, y_train, lr=0.03, batch_size=64, epochs=10):\n",
    "    # Número de files d'x_train\n",
    "    n_samples = x_train.shape[0]\n",
    "\n",
    "    for epoch in range(epochs):\n",
    "        print(f\"Epoch {epoch + 1}/{epochs}\")\n",
    "        # Barrejar les dades per a millor entrenament\n",
    "        indexes = np.random.permutation(n_samples)\n",
    "        x_train = x_train[indexes]\n",
    "        y_train = y_train[indexes]\n",
    "\n",
    "        # Entrenament per batches (lotes)\n",
    "        for i in range(0, n_samples, batch_size):\n",
    "            x_batch = x_train[i:i + batch_size]\n",
    "            y_batch = y_train[i:i + batch_size]\n",
    "\n",
    "            # Forward\n",
    "            y_pred = model.forward(x_batch)\n",
    "\n",
    "            # Calcular l'error\n",
    "            error = (y_pred - y_batch)\n",
    "\n",
    "            # Backward\n",
    "            model.backward(2 * error / batch_size)\n",
    "\n",
    "            # Actualitzar paràmetres\n",
    "            model.update_parameters(lr)\n",
    "\n",
    "        # Evaluar después de cada época\n",
    "        loss = test(model, x_train, y_train)\n",
    "        print(f\"Loss after epoch {epoch + 1}: {loss}\")\n",
    "\n",
    "def test(model, x_test, y_test):\n",
    "    # Forward en el conjunto de prueba\n",
    "    y_pred = model.forward(x_test)\n",
    "    # Calcular el error cuadrático medio (MSE)\n",
    "    loss = np.mean((y_pred - y_test) ** 2)\n",
    "    return loss\n",
    "    \n",
    "        "
   ]
  },
  {
   "cell_type": "markdown",
   "metadata": {},
   "source": [
    "## Dataloader"
   ]
  },
  {
   "cell_type": "code",
   "execution_count": 91,
   "metadata": {},
   "outputs": [],
   "source": [
    "class dataloader:\n",
    "    def __init__(self, x, y):\n",
    "        self.x = x\n",
    "        self. y = y"
   ]
  },
  {
   "cell_type": "code",
   "execution_count": 92,
   "metadata": {},
   "outputs": [
    {
     "name": "stdout",
     "output_type": "stream",
     "text": [
      "Epoch 1/100\n",
      "Loss after epoch 1: 20.777308506461917\n",
      "Epoch 2/100\n",
      "Loss after epoch 2: 0.08998711985555523\n",
      "Epoch 3/100\n",
      "Loss after epoch 3: 0.08998266607556815\n",
      "Epoch 4/100\n",
      "Loss after epoch 4: 0.08997928063985858\n",
      "Epoch 5/100\n",
      "Loss after epoch 5: 0.09000734209680718\n",
      "Epoch 6/100\n",
      "Loss after epoch 6: 0.08999142222628373\n",
      "Epoch 7/100\n",
      "Loss after epoch 7: 0.0899961831942111\n",
      "Epoch 8/100\n",
      "Loss after epoch 8: 0.08997833857823655\n",
      "Epoch 9/100\n",
      "Loss after epoch 9: 0.08998472625354799\n",
      "Epoch 10/100\n",
      "Loss after epoch 10: 0.08998373276901259\n",
      "Epoch 11/100\n",
      "Loss after epoch 11: 0.08999566763034597\n",
      "Epoch 12/100\n",
      "Loss after epoch 12: 0.08998286376893185\n",
      "Epoch 13/100\n",
      "Loss after epoch 13: 0.09000411641263516\n",
      "Epoch 14/100\n",
      "Loss after epoch 14: 0.08998602382942704\n",
      "Epoch 15/100\n",
      "Loss after epoch 15: 0.08999316082498397\n",
      "Epoch 16/100\n",
      "Loss after epoch 16: 0.08998722082391197\n",
      "Epoch 17/100\n",
      "Loss after epoch 17: 0.08998787281554865\n",
      "Epoch 18/100\n",
      "Loss after epoch 18: 0.08998468800083927\n",
      "Epoch 19/100\n",
      "Loss after epoch 19: 0.08998873959666814\n",
      "Epoch 20/100\n"
     ]
    },
    {
     "ename": "KeyboardInterrupt",
     "evalue": "",
     "output_type": "error",
     "traceback": [
      "\u001b[0;31m---------------------------------------------------------------------------\u001b[0m",
      "\u001b[0;31mKeyboardInterrupt\u001b[0m                         Traceback (most recent call last)",
      "Cell \u001b[0;32mIn[92], line 8\u001b[0m\n\u001b[1;32m      5\u001b[0m y_train \u001b[38;5;241m=\u001b[39m y_train\u001b[38;5;241m.\u001b[39mastype(\u001b[38;5;28mint\u001b[39m)\n\u001b[1;32m      6\u001b[0m y_train \u001b[38;5;241m=\u001b[39m one_hot(y_train)\n\u001b[0;32m----> 8\u001b[0m \u001b[43mtrain\u001b[49m\u001b[43m(\u001b[49m\u001b[43mmodel\u001b[49m\u001b[43m,\u001b[49m\u001b[43m \u001b[49m\u001b[43mX_train\u001b[49m\u001b[43m,\u001b[49m\u001b[43m \u001b[49m\u001b[43my_train\u001b[49m\u001b[43m,\u001b[49m\u001b[43m \u001b[49m\u001b[43mlr\u001b[49m\u001b[38;5;241;43m=\u001b[39;49m\u001b[38;5;241;43m0.03\u001b[39;49m\u001b[43m,\u001b[49m\u001b[43m \u001b[49m\u001b[43mbatch_size\u001b[49m\u001b[38;5;241;43m=\u001b[39;49m\u001b[38;5;241;43m128\u001b[39;49m\u001b[43m,\u001b[49m\u001b[43m \u001b[49m\u001b[43mepochs\u001b[49m\u001b[38;5;241;43m=\u001b[39;49m\u001b[38;5;241;43m100\u001b[39;49m\u001b[43m)\u001b[49m\n\u001b[1;32m      9\u001b[0m loss \u001b[38;5;241m=\u001b[39m test(model, X_test, y_test)\n\u001b[1;32m     10\u001b[0m \u001b[38;5;28mprint\u001b[39m(\u001b[38;5;124mf\u001b[39m\u001b[38;5;124m\"\u001b[39m\u001b[38;5;124mFinal loss on test set: \u001b[39m\u001b[38;5;132;01m{\u001b[39;00mloss\u001b[38;5;132;01m}\u001b[39;00m\u001b[38;5;124m\"\u001b[39m)\n",
      "Cell \u001b[0;32mIn[90], line 30\u001b[0m, in \u001b[0;36mtrain\u001b[0;34m(model, x_train, y_train, lr, batch_size, epochs)\u001b[0m\n\u001b[1;32m     27\u001b[0m     model\u001b[38;5;241m.\u001b[39mupdate_parameters(lr)\n\u001b[1;32m     29\u001b[0m \u001b[38;5;66;03m# Evaluar después de cada época\u001b[39;00m\n\u001b[0;32m---> 30\u001b[0m loss \u001b[38;5;241m=\u001b[39m \u001b[43mtest\u001b[49m\u001b[43m(\u001b[49m\u001b[43mmodel\u001b[49m\u001b[43m,\u001b[49m\u001b[43m \u001b[49m\u001b[43mx_train\u001b[49m\u001b[43m,\u001b[49m\u001b[43m \u001b[49m\u001b[43my_train\u001b[49m\u001b[43m)\u001b[49m\n\u001b[1;32m     31\u001b[0m \u001b[38;5;28mprint\u001b[39m(\u001b[38;5;124mf\u001b[39m\u001b[38;5;124m\"\u001b[39m\u001b[38;5;124mLoss after epoch \u001b[39m\u001b[38;5;132;01m{\u001b[39;00mepoch\u001b[38;5;250m \u001b[39m\u001b[38;5;241m+\u001b[39m\u001b[38;5;250m \u001b[39m\u001b[38;5;241m1\u001b[39m\u001b[38;5;132;01m}\u001b[39;00m\u001b[38;5;124m: \u001b[39m\u001b[38;5;132;01m{\u001b[39;00mloss\u001b[38;5;132;01m}\u001b[39;00m\u001b[38;5;124m\"\u001b[39m)\n",
      "Cell \u001b[0;32mIn[90], line 35\u001b[0m, in \u001b[0;36mtest\u001b[0;34m(model, x_test, y_test)\u001b[0m\n\u001b[1;32m     33\u001b[0m \u001b[38;5;28;01mdef\u001b[39;00m \u001b[38;5;21mtest\u001b[39m(model, x_test, y_test):\n\u001b[1;32m     34\u001b[0m     \u001b[38;5;66;03m# Forward en el conjunto de prueba\u001b[39;00m\n\u001b[0;32m---> 35\u001b[0m     y_pred \u001b[38;5;241m=\u001b[39m \u001b[43mmodel\u001b[49m\u001b[38;5;241;43m.\u001b[39;49m\u001b[43mforward\u001b[49m\u001b[43m(\u001b[49m\u001b[43mx_test\u001b[49m\u001b[43m)\u001b[49m\n\u001b[1;32m     36\u001b[0m     \u001b[38;5;66;03m# Calcular el error cuadrático medio (MSE)\u001b[39;00m\n\u001b[1;32m     37\u001b[0m     loss \u001b[38;5;241m=\u001b[39m np\u001b[38;5;241m.\u001b[39mmean((y_pred \u001b[38;5;241m-\u001b[39m y_test) \u001b[38;5;241m*\u001b[39m\u001b[38;5;241m*\u001b[39m \u001b[38;5;241m2\u001b[39m)\n",
      "Cell \u001b[0;32mIn[89], line 11\u001b[0m, in \u001b[0;36mNN_model.forward\u001b[0;34m(self, x)\u001b[0m\n\u001b[1;32m      9\u001b[0m \u001b[38;5;28;01mfor\u001b[39;00m layer \u001b[38;5;129;01min\u001b[39;00m \u001b[38;5;28mself\u001b[39m\u001b[38;5;241m.\u001b[39msequential:\n\u001b[1;32m     10\u001b[0m     y \u001b[38;5;241m=\u001b[39m layer\u001b[38;5;241m.\u001b[39mforward(x)\n\u001b[0;32m---> 11\u001b[0m     x \u001b[38;5;241m=\u001b[39m y\n\u001b[1;32m     12\u001b[0m \u001b[38;5;28;01mreturn\u001b[39;00m y\n",
      "\u001b[0;31mKeyboardInterrupt\u001b[0m: "
     ]
    }
   ],
   "source": [
    "# Normalización\n",
    "X_train = X_train.reshape(X_train.shape[0], -1) / 255.0\n",
    "X_test = X_test.reshape(X_test.shape[0], -1) / 255.0\n",
    "\n",
    "y_train = y_train.astype(int)\n",
    "y_train = one_hot(y_train)\n",
    "\n",
    "train(model, X_train, y_train, lr=0.03, batch_size=128, epochs=100)\n",
    "loss = test(model, X_test, y_test)\n",
    "print(f\"Final loss on test set: {loss}\")\n"
   ]
  },
  {
   "cell_type": "code",
   "execution_count": null,
   "metadata": {},
   "outputs": [],
   "source": []
  }
 ],
 "metadata": {
  "kernelspec": {
   "display_name": "ex-basics",
   "language": "python",
   "name": "python3"
  },
  "language_info": {
   "codemirror_mode": {
    "name": "ipython",
    "version": 3
   },
   "file_extension": ".py",
   "mimetype": "text/x-python",
   "name": "python",
   "nbconvert_exporter": "python",
   "pygments_lexer": "ipython3",
   "version": "3.12.7"
  }
 },
 "nbformat": 4,
 "nbformat_minor": 2
}
